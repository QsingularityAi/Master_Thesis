{
 "cells": [
  {
   "cell_type": "code",
   "execution_count": 1,
   "metadata": {},
   "outputs": [],
   "source": [
    "from sklearn.model_selection import RepeatedKFold\n",
    "from sklearn.metrics import mean_squared_error\n",
    "import optuna\n",
    "from optuna.trial import TrialState\n",
    "import numpy as np\n",
    "from data import data_prepration\n",
    "import xgboost as xgb\n"
   ]
  },
  {
   "cell_type": "code",
   "execution_count": 2,
   "metadata": {},
   "outputs": [],
   "source": [
    "X_train, Y1_train, Y2_train, X_valid, Y1_valid, Y2_valid, X_test, Y1_test, Y2_test = data_prepration()"
   ]
  },
  {
   "cell_type": "code",
   "execution_count": 3,
   "metadata": {},
   "outputs": [
    {
     "name": "stdout",
     "output_type": "stream",
     "text": [
      "Train RMSE:  0.023487337\n",
      "Test RMSE:  0.038463123\n",
      "Validation RMSE:  0.037601396\n",
      "Train MSE:  0.00055165496\n",
      "Test MSE:  0.0014794118\n",
      "Validation MSE:  0.0014138651\n"
     ]
    }
   ],
   "source": [
    "from sklearn.metrics import mean_squared_error\n",
    "import xgboost as xgb\n",
    "\n",
    "# train the model\n",
    "xg_reg = xgb.XGBRegressor(objective='reg:squarederror', seed=42, n_estimators=10)\n",
    "xg_reg.fit(X_train, Y1_train)\n",
    "\n",
    "# make predictions\n",
    "train_preds = xg_reg.predict(X_train)\n",
    "test_preds = xg_reg.predict(X_test)\n",
    "val_preds = xg_reg.predict(X_valid)\n",
    "\n",
    "# calculate rmse\n",
    "train_rmse = np.sqrt(mean_squared_error(Y1_train, train_preds))\n",
    "test_rmse = np.sqrt(mean_squared_error(Y1_test, test_preds))\n",
    "val_rmse = np.sqrt(mean_squared_error(Y1_valid, val_preds))\n",
    "\n",
    "# calculate mse\n",
    "train_mse = mean_squared_error(Y1_train, train_preds)\n",
    "test_mse = mean_squared_error(Y1_test, test_preds)\n",
    "val_mse = mean_squared_error(Y1_valid, val_preds)\n",
    "\n",
    "\n",
    "# print the results\n",
    "print(\"Train RMSE: \", train_rmse)\n",
    "print(\"Test RMSE: \", test_rmse)\n",
    "print(\"Validation RMSE: \", val_rmse)\n",
    "\n",
    "# print the results\n",
    "\n",
    "print(\"Train MSE: \", train_mse)\n",
    "print(\"Test MSE: \", test_mse)\n",
    "print(\"Validation MSE: \", val_mse)"
   ]
  },
  {
   "cell_type": "code",
   "execution_count": 4,
   "metadata": {},
   "outputs": [
    {
     "name": "stdout",
     "output_type": "stream",
     "text": [
      "Train RMSE:  0.022411434\n",
      "Test RMSE:  0.02751577\n",
      "Validation RMSE:  0.03604707\n",
      "Train MSE:  0.0005022724\n",
      "Test MSE:  0.00075711764\n",
      "Validation MSE:  0.0012993914\n"
     ]
    }
   ],
   "source": [
    "from sklearn.metrics import mean_squared_error\n",
    "import xgboost as xgb\n",
    "\n",
    "# train the model\n",
    "xg_reg = xgb.XGBRegressor(objective='reg:squarederror', seed=42, n_estimators=10)\n",
    "xg_reg.fit(X_train, Y2_train)\n",
    "\n",
    "# make predictions\n",
    "train_preds = xg_reg.predict(X_train)\n",
    "test_preds = xg_reg.predict(X_test)\n",
    "val_preds = xg_reg.predict(X_valid)\n",
    "\n",
    "# calculate rmse\n",
    "train_rmse = np.sqrt(mean_squared_error(Y2_train, train_preds))\n",
    "test_rmse = np.sqrt(mean_squared_error(Y2_test, test_preds))\n",
    "val_rmse = np.sqrt(mean_squared_error(Y2_valid, val_preds))\n",
    "\n",
    "# calculate mse\n",
    "train_mse = mean_squared_error(Y2_train, train_preds)\n",
    "test_mse = mean_squared_error(Y2_test, test_preds)\n",
    "val_mse = mean_squared_error(Y2_valid, val_preds)\n",
    "\n",
    "# print the results\n",
    "print(\"Train RMSE: \", train_rmse)\n",
    "print(\"Test RMSE: \", test_rmse)\n",
    "print(\"Validation RMSE: \", val_rmse)\n",
    "\n",
    "# print the results\n",
    "\n",
    "print(\"Train MSE: \", train_mse)\n",
    "print(\"Test MSE: \", test_mse)\n",
    "print(\"Validation MSE: \", val_mse)"
   ]
  },
  {
   "cell_type": "code",
   "execution_count": 3,
   "metadata": {},
   "outputs": [
    {
     "name": "stdout",
     "output_type": "stream",
     "text": [
      "RMSE: 0.038345\n",
      "MSE: 0.001470\n"
     ]
    }
   ],
   "source": [
    "# Instantiatethe XGBRegressor: xg_reg\n",
    "xg_reg = xgb.XGBRegressor(objective='reg:squarederror', seed=42, n_estimators=10)\n",
    "\n",
    "# # Fit the regressor to the training set\n",
    "xg_reg.fit(X_train, Y1_train)\n",
    "\n",
    "# # Predict the labels of the test set: preds\n",
    "preds = xg_reg.predict(X_valid)\n",
    "\n",
    "# # compute the rmse: rmse\n",
    "rmse = np.sqrt(mean_squared_error(Y1_valid, preds))\n",
    "mse = mean_squared_error(Y1_valid, preds)\n",
    "print(\"RMSE: %f\" % (rmse))\n",
    "print(\"MSE: %f\" % (mse))"
   ]
  },
  {
   "cell_type": "code",
   "execution_count": 4,
   "metadata": {},
   "outputs": [
    {
     "name": "stdout",
     "output_type": "stream",
     "text": [
      "RMSE: 0.028005\n",
      "MSE: 0.000784\n"
     ]
    }
   ],
   "source": [
    "# Instantiatethe XGBRegressor: xg_reg\n",
    "xg_reg = xgb.XGBRegressor(objective='reg:squarederror', seed=42, n_estimators=10)\n",
    "\n",
    "# # Fit the regressor to the training set\n",
    "xg_reg.fit(X_train, Y2_train)\n",
    "\n",
    "# # Predict the labels of the test set: preds\n",
    "preds = xg_reg.predict(X_valid)\n",
    "\n",
    "# # compute the rmse: rmse\n",
    "rmse = np.sqrt(mean_squared_error(Y2_valid, preds))\n",
    "mse = mean_squared_error(Y2_valid, preds)\n",
    "print(\"RMSE: %f\" % (rmse))\n",
    "print(\"MSE: %f\" % (mse))"
   ]
  },
  {
   "cell_type": "code",
   "execution_count": 5,
   "metadata": {},
   "outputs": [
    {
     "name": "stdout",
     "output_type": "stream",
     "text": [
      "   train-rmse-mean  train-rmse-std  test-rmse-mean  test-rmse-std\n",
      "0         0.229968        0.002234        0.231496       0.008287\n",
      "1         0.165599        0.001412        0.168656       0.007247\n",
      "2         0.120757        0.001020        0.124575       0.006323\n",
      "3         0.089480        0.000436        0.095634       0.005855\n",
      "4         0.067810        0.000261        0.075595       0.005737\n",
      "4    0.075595\n",
      "Name: test-rmse-mean, dtype: float64\n"
     ]
    }
   ],
   "source": [
    "dmatrix = xgb.DMatrix(data=X_train, label=Y1_train)\n",
    "\n",
    "# Create the parameter dictionary: params\n",
    "params = {\"objective\":\"reg:squarederror\", \"max_depth\":4}\n",
    "\n",
    "# Perform cross-valdiation: cv_results\n",
    "cv_results = xgb.cv(dtrain=dmatrix, params=params, nfold=4,\n",
    "                    num_boost_round=5, metrics='rmse', as_pandas=True, seed=123)\n",
    "\n",
    "# Print cv_results\n",
    "print(cv_results)\n",
    "\n",
    "# Extract and print final boosting round metric\n",
    "print((cv_results['test-rmse-mean']).tail(1))"
   ]
  },
  {
   "cell_type": "code",
   "execution_count": 6,
   "metadata": {},
   "outputs": [
    {
     "name": "stdout",
     "output_type": "stream",
     "text": [
      "   train-rmse-mean  train-rmse-std  test-rmse-mean  test-rmse-std\n",
      "0         0.191494        0.002251        0.191326       0.010245\n",
      "1         0.139343        0.001590        0.139344       0.008080\n",
      "2         0.101878        0.001109        0.102600       0.005972\n",
      "3         0.075854        0.000821        0.077487       0.004527\n",
      "4         0.058202        0.000679        0.060464       0.003305\n",
      "4    0.060464\n",
      "Name: test-rmse-mean, dtype: float64\n"
     ]
    }
   ],
   "source": [
    "dmatrix = xgb.DMatrix(data=X_train, label=Y2_train)\n",
    "\n",
    "# Create the parameter dictionary: params\n",
    "params = {\"objective\":\"reg:squarederror\", \"max_depth\":4}\n",
    "\n",
    "# Perform cross-valdiation: cv_results\n",
    "cv_results = xgb.cv(dtrain=dmatrix, params=params, nfold=4,\n",
    "                    num_boost_round=5, metrics='rmse', as_pandas=True, seed=123)\n",
    "\n",
    "# Print cv_results\n",
    "print(cv_results)\n",
    "\n",
    "# Extract and print final boosting round metric\n",
    "print((cv_results['test-rmse-mean']).tail(1))"
   ]
  },
  {
   "cell_type": "code",
   "execution_count": 7,
   "metadata": {},
   "outputs": [],
   "source": [
    "params = { 'max_depth': [3, 5, 6, 10, 15, 20],\n",
    "           'learning_rate': [0.01, 0.1, 0.2, 0.3],\n",
    "           'subsample': np.arange(0.5, 1.0, 0.1),\n",
    "           'colsample_bytree': np.arange(0.4, 1.0, 0.1),\n",
    "           'colsample_bylevel': np.arange(0.4, 1.0, 0.1),\n",
    "           'n_estimators': [100, 500, 1000]}"
   ]
  },
  {
   "cell_type": "code",
   "execution_count": 8,
   "metadata": {},
   "outputs": [
    {
     "name": "stdout",
     "output_type": "stream",
     "text": [
      "Fitting 5 folds for each of 25 candidates, totalling 125 fits\n",
      "Best parameters: {'subsample': 0.8999999999999999, 'n_estimators': 100, 'max_depth': 5, 'learning_rate': 0.1, 'colsample_bytree': 0.7, 'colsample_bylevel': 0.5}\n",
      "Lowest RMSE:  0.030769351171317922\n"
     ]
    }
   ],
   "source": [
    "from sklearn.model_selection import ShuffleSplit, KFold, train_test_split, cross_val_score, GridSearchCV, RandomizedSearchCV\n",
    "xgbr1=xgb.XGBRegressor(seed = 20)\n",
    "    \n",
    "clf1 = RandomizedSearchCV(estimator=xgbr1,\n",
    "                         param_distributions=params,\n",
    "                         scoring='neg_mean_squared_error',\n",
    "                         n_iter=25,\n",
    "                         verbose=1)\n",
    "clf1.fit(X_train, Y1_train)\n",
    "print(\"Best parameters:\", clf1.best_params_)\n",
    "print(\"Lowest RMSE: \", (-clf1.best_score_)**(1/2.0))"
   ]
  },
  {
   "cell_type": "code",
   "execution_count": null,
   "metadata": {},
   "outputs": [],
   "source": [
    "xgbr1=xgb.XGBRegressor(seed = 20)\n",
    "    \n",
    "clf1 = RandomizedSearchCV(estimator=xgbr1,\n",
    "                         param_distributions=params,\n",
    "                         scoring='neg_mean_squared_error',\n",
    "                         n_iter=25,\n",
    "                         verbose=1)\n",
    "clf1.fit(X_train, Y2_train)\n",
    "print(\"Best parameters:\", clf1.best_params_)\n",
    "print(\"Lowest RMSE: \", (-clf1.best_score_)**(1/2.0))"
   ]
  }
 ],
 "metadata": {
  "kernelspec": {
   "display_name": "base",
   "language": "python",
   "name": "python3"
  },
  "language_info": {
   "codemirror_mode": {
    "name": "ipython",
    "version": 3
   },
   "file_extension": ".py",
   "mimetype": "text/x-python",
   "name": "python",
   "nbconvert_exporter": "python",
   "pygments_lexer": "ipython3",
   "version": "3.9.7"
  },
  "orig_nbformat": 4,
  "vscode": {
   "interpreter": {
    "hash": "40d3a090f54c6569ab1632332b64b2c03c39dcf918b08424e98f38b5ae0af88f"
   }
  }
 },
 "nbformat": 4,
 "nbformat_minor": 2
}
