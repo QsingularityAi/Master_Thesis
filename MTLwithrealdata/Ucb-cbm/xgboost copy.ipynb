{
 "cells": [
  {
   "cell_type": "code",
   "execution_count": 6,
   "metadata": {},
   "outputs": [],
   "source": [
    "from sklearn.model_selection import RepeatedKFold\n",
    "from sklearn.metrics import mean_squared_error\n",
    "import optuna\n",
    "from optuna.trial import TrialState\n",
    "import numpy as np\n",
    "from data import data_prepration\n",
    "import xgboost as xgb\n"
   ]
  },
  {
   "cell_type": "code",
   "execution_count": 8,
   "metadata": {},
   "outputs": [],
   "source": [
    "X_train, Y1_train, Y2_train, X_valid, Y1_valid, Y2_valid, X_test, Y1_test, Y2_test = data_prepration()"
   ]
  },
  {
   "cell_type": "code",
   "execution_count": 9,
   "metadata": {},
   "outputs": [
    {
     "name": "stdout",
     "output_type": "stream",
     "text": [
      "Train RMSE:  0.07946754\n",
      "Test RMSE:  0.08149272\n",
      "Validation RMSE:  0.079893075\n",
      "Train MSE:  0.0063150898\n",
      "Test MSE:  0.0066410634\n",
      "Validation MSE:  0.006382903\n"
     ]
    }
   ],
   "source": [
    "from sklearn.metrics import mean_squared_error\n",
    "import xgboost as xgb\n",
    "\n",
    "# train the model\n",
    "xg_reg = xgb.XGBRegressor(objective='reg:squarederror', seed=42, n_estimators=10)\n",
    "xg_reg.fit(X_train, Y1_train)\n",
    "\n",
    "# make predictions\n",
    "train_preds = xg_reg.predict(X_train)\n",
    "test_preds = xg_reg.predict(X_test)\n",
    "val_preds = xg_reg.predict(X_valid)\n",
    "\n",
    "# calculate rmse\n",
    "train_rmse = np.sqrt(mean_squared_error(Y1_train, train_preds))\n",
    "test_rmse = np.sqrt(mean_squared_error(Y1_test, test_preds))\n",
    "val_rmse = np.sqrt(mean_squared_error(Y1_valid, val_preds))\n",
    "\n",
    "# calculate mse\n",
    "train_mse = mean_squared_error(Y1_train, train_preds)\n",
    "test_mse = mean_squared_error(Y1_test, test_preds)\n",
    "val_mse = mean_squared_error(Y1_valid, val_preds)\n",
    "\n",
    "\n",
    "# print the results\n",
    "print(\"Train RMSE: \", train_rmse)\n",
    "print(\"Test RMSE: \", test_rmse)\n",
    "print(\"Validation RMSE: \", val_rmse)\n",
    "\n",
    "# print the results\n",
    "\n",
    "print(\"Train MSE: \", train_mse)\n",
    "print(\"Test MSE: \", test_mse)\n",
    "print(\"Validation MSE: \", val_mse)"
   ]
  },
  {
   "cell_type": "code",
   "execution_count": 10,
   "metadata": {},
   "outputs": [
    {
     "name": "stdout",
     "output_type": "stream",
     "text": [
      "Train RMSE:  0.097964846\n",
      "Test RMSE:  0.10574142\n",
      "Validation RMSE:  0.10479823\n",
      "Train MSE:  0.009597111\n",
      "Test MSE:  0.011181248\n",
      "Validation MSE:  0.010982669\n"
     ]
    }
   ],
   "source": [
    "from sklearn.metrics import mean_squared_error\n",
    "import xgboost as xgb\n",
    "\n",
    "# train the model\n",
    "xg_reg = xgb.XGBRegressor(objective='reg:squarederror', seed=42, n_estimators=10)\n",
    "xg_reg.fit(X_train, Y2_train)\n",
    "\n",
    "# make predictions\n",
    "train_preds = xg_reg.predict(X_train)\n",
    "test_preds = xg_reg.predict(X_test)\n",
    "val_preds = xg_reg.predict(X_valid)\n",
    "\n",
    "# calculate rmse\n",
    "train_rmse = np.sqrt(mean_squared_error(Y2_train, train_preds))\n",
    "test_rmse = np.sqrt(mean_squared_error(Y2_test, test_preds))\n",
    "val_rmse = np.sqrt(mean_squared_error(Y2_valid, val_preds))\n",
    "\n",
    "# calculate mse\n",
    "train_mse = mean_squared_error(Y2_train, train_preds)\n",
    "test_mse = mean_squared_error(Y2_test, test_preds)\n",
    "val_mse = mean_squared_error(Y2_valid, val_preds)\n",
    "\n",
    "# print the results\n",
    "print(\"Train RMSE: \", train_rmse)\n",
    "print(\"Test RMSE: \", test_rmse)\n",
    "print(\"Validation RMSE: \", val_rmse)\n",
    "\n",
    "# print the results\n",
    "\n",
    "print(\"Train MSE: \", train_mse)\n",
    "print(\"Test MSE: \", test_mse)\n",
    "print(\"Validation MSE: \", val_mse)"
   ]
  },
  {
   "cell_type": "code",
   "execution_count": 4,
   "metadata": {},
   "outputs": [
    {
     "name": "stdout",
     "output_type": "stream",
     "text": [
      "RMSE: 0.080295\n",
      "MSE: 0.006447\n"
     ]
    }
   ],
   "source": [
    "# Instantiatethe XGBRegressor: xg_reg\n",
    "xg_reg = xgb.XGBRegressor(objective='reg:squarederror', seed=42, n_estimators=10)\n",
    "\n",
    "# # Fit the regressor to the training set\n",
    "xg_reg.fit(X_train, Y1_train)\n",
    "\n",
    "# # Predict the labels of the test set: preds\n",
    "preds = xg_reg.predict(X_valid)\n",
    "\n",
    "# # compute the rmse: rmse\n",
    "rmse = np.sqrt(mean_squared_error(Y1_valid, preds))\n",
    "mse = mean_squared_error(Y1_valid, preds)\n",
    "print(\"RMSE: %f\" % (rmse))\n",
    "print(\"MSE: %f\" % (mse))"
   ]
  },
  {
   "cell_type": "code",
   "execution_count": 5,
   "metadata": {},
   "outputs": [
    {
     "name": "stdout",
     "output_type": "stream",
     "text": [
      "RMSE: 0.108313\n",
      "MSE: 0.011732\n"
     ]
    }
   ],
   "source": [
    "# Instantiatethe XGBRegressor: xg_reg\n",
    "xg_reg = xgb.XGBRegressor(objective='reg:squarederror', seed=42, n_estimators=10)\n",
    "\n",
    "# # Fit the regressor to the training set\n",
    "xg_reg.fit(X_train, Y2_train)\n",
    "\n",
    "# # Predict the labels of the test set: preds\n",
    "preds = xg_reg.predict(X_valid)\n",
    "\n",
    "# # compute the rmse: rmse\n",
    "rmse = np.sqrt(mean_squared_error(Y2_valid, preds))\n",
    "mse = mean_squared_error(Y2_valid, preds)\n",
    "print(\"RMSE: %f\" % (rmse))\n",
    "print(\"MSE: %f\" % (mse))"
   ]
  },
  {
   "cell_type": "code",
   "execution_count": 6,
   "metadata": {},
   "outputs": [
    {
     "name": "stdout",
     "output_type": "stream",
     "text": [
      "   train-rmse-mean  train-rmse-std  test-rmse-mean  test-rmse-std\n",
      "0         0.269853        0.000392        0.270145       0.000539\n",
      "1         0.248763        0.000732        0.249528       0.000588\n",
      "2         0.232768        0.001359        0.233639       0.002115\n",
      "3         0.202615        0.007757        0.203629       0.007677\n",
      "4         0.186495        0.002955        0.188342       0.002820\n",
      "4    0.188342\n",
      "Name: test-rmse-mean, dtype: float64\n"
     ]
    }
   ],
   "source": [
    "dmatrix = xgb.DMatrix(data=X_train, label=Y1_train)\n",
    "\n",
    "# Create the parameter dictionary: params\n",
    "params = {\"objective\":\"reg:squarederror\", \"max_depth\":4}\n",
    "\n",
    "# Perform cross-valdiation: cv_results\n",
    "cv_results = xgb.cv(dtrain=dmatrix, params=params, nfold=4,\n",
    "                    num_boost_round=5, metrics='rmse', as_pandas=True, seed=123)\n",
    "\n",
    "# Print cv_results\n",
    "print(cv_results)\n",
    "\n",
    "# Extract and print final boosting round metric\n",
    "print((cv_results['test-rmse-mean']).tail(1))"
   ]
  },
  {
   "cell_type": "code",
   "execution_count": 7,
   "metadata": {},
   "outputs": [
    {
     "name": "stdout",
     "output_type": "stream",
     "text": [
      "   train-rmse-mean  train-rmse-std  test-rmse-mean  test-rmse-std\n",
      "0         0.281746        0.002204        0.282222       0.001904\n",
      "1         0.263266        0.006708        0.263656       0.006594\n",
      "2         0.242862        0.007584        0.243717       0.007824\n",
      "3         0.229648        0.002268        0.230731       0.003756\n",
      "4         0.210057        0.005048        0.212694       0.004798\n",
      "4    0.212694\n",
      "Name: test-rmse-mean, dtype: float64\n"
     ]
    }
   ],
   "source": [
    "dmatrix = xgb.DMatrix(data=X_train, label=Y2_train)\n",
    "\n",
    "# Create the parameter dictionary: params\n",
    "params = {\"objective\":\"reg:squarederror\", \"max_depth\":4}\n",
    "\n",
    "# Perform cross-valdiation: cv_results\n",
    "cv_results = xgb.cv(dtrain=dmatrix, params=params, nfold=4,\n",
    "                    num_boost_round=5, metrics='rmse', as_pandas=True, seed=123)\n",
    "\n",
    "# Print cv_results\n",
    "print(cv_results)\n",
    "\n",
    "# Extract and print final boosting round metric\n",
    "print((cv_results['test-rmse-mean']).tail(1))"
   ]
  },
  {
   "cell_type": "code",
   "execution_count": 8,
   "metadata": {},
   "outputs": [
    {
     "name": "stdout",
     "output_type": "stream",
     "text": [
      "   train-rmse-mean  train-rmse-std  test-rmse-mean  test-rmse-std\n",
      "0         0.144221        0.001923        0.147981       0.003864\n",
      "1         0.134588        0.001776        0.140829       0.002696\n",
      "2         0.126011        0.001434        0.134896       0.004193\n",
      "3         0.117312        0.001723        0.130315       0.003682\n",
      "4         0.111287        0.001375        0.126475       0.002756\n",
      "4    0.126475\n",
      "Name: test-rmse-mean, dtype: float64\n"
     ]
    }
   ],
   "source": [
    "dmatrix = xgb.DMatrix(data=X_train, label=Y3_train)\n",
    "\n",
    "# Create the parameter dictionary: params\n",
    "params = {\"objective\":\"reg:squarederror\", \"max_depth\":4}\n",
    "\n",
    "# Perform cross-valdiation: cv_results\n",
    "cv_results = xgb.cv(dtrain=dmatrix, params=params, nfold=4,\n",
    "                    num_boost_round=5, metrics='rmse', as_pandas=True, seed=123)\n",
    "\n",
    "# Print cv_results\n",
    "print(cv_results)\n",
    "\n",
    "# Extract and print final boosting round metric\n",
    "print((cv_results['test-rmse-mean']).tail(1))"
   ]
  },
  {
   "cell_type": "code",
   "execution_count": 14,
   "metadata": {},
   "outputs": [],
   "source": [
    "params = { 'max_depth': [3, 5, 6, 10, 15, 20],\n",
    "           'learning_rate': [0.01, 0.1, 0.2, 0.3],\n",
    "           'subsample': np.arange(0.5, 1.0, 0.1),\n",
    "           'colsample_bytree': np.arange(0.4, 1.0, 0.1),\n",
    "           'colsample_bylevel': np.arange(0.4, 1.0, 0.1),\n",
    "           'n_estimators': [100, 500, 1000]}"
   ]
  },
  {
   "cell_type": "code",
   "execution_count": 15,
   "metadata": {},
   "outputs": [
    {
     "name": "stdout",
     "output_type": "stream",
     "text": [
      "Fitting 5 folds for each of 25 candidates, totalling 125 fits\n",
      "Best parameters: {'subsample': 0.7999999999999999, 'n_estimators': 500, 'max_depth': 15, 'learning_rate': 0.01, 'colsample_bytree': 0.5, 'colsample_bylevel': 0.8999999999999999}\n",
      "Lowest RMSE:  0.028754736779636133\n"
     ]
    }
   ],
   "source": [
    "from sklearn.model_selection import ShuffleSplit, KFold, train_test_split, cross_val_score, GridSearchCV, RandomizedSearchCV\n",
    "xgbr1=xgb.XGBRegressor(seed = 20)\n",
    "    \n",
    "clf1 = RandomizedSearchCV(estimator=xgbr1,\n",
    "                         param_distributions=params,\n",
    "                         scoring='neg_mean_squared_error',\n",
    "                         n_iter=25,\n",
    "                         verbose=1)\n",
    "clf1.fit(X_train, Y1_train)\n",
    "print(\"Best parameters:\", clf1.best_params_)\n",
    "print(\"Lowest RMSE: \", (-clf1.best_score_)**(1/2.0))"
   ]
  },
  {
   "cell_type": "code",
   "execution_count": null,
   "metadata": {},
   "outputs": [],
   "source": [
    "xgbr1=xgb.XGBRegressor(seed = 20)\n",
    "    \n",
    "clf1 = RandomizedSearchCV(estimator=xgbr1,\n",
    "                         param_distributions=params,\n",
    "                         scoring='neg_mean_squared_error',\n",
    "                         n_iter=25,\n",
    "                         verbose=1)\n",
    "clf1.fit(X_train, Y2_train)\n",
    "print(\"Best parameters:\", clf1.best_params_)\n",
    "print(\"Lowest RMSE: \", (-clf1.best_score_)**(1/2.0))"
   ]
  }
 ],
 "metadata": {
  "kernelspec": {
   "display_name": "base",
   "language": "python",
   "name": "python3"
  },
  "language_info": {
   "codemirror_mode": {
    "name": "ipython",
    "version": 3
   },
   "file_extension": ".py",
   "mimetype": "text/x-python",
   "name": "python",
   "nbconvert_exporter": "python",
   "pygments_lexer": "ipython3",
   "version": "3.9.7"
  },
  "orig_nbformat": 4,
  "vscode": {
   "interpreter": {
    "hash": "40d3a090f54c6569ab1632332b64b2c03c39dcf918b08424e98f38b5ae0af88f"
   }
  }
 },
 "nbformat": 4,
 "nbformat_minor": 2
}
