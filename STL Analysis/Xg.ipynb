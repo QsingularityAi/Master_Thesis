{
 "cells": [
  {
   "cell_type": "code",
   "execution_count": 1,
   "metadata": {},
   "outputs": [],
   "source": [
    "import numpy as np\n",
    "from numpy.random import uniform\n",
    "import matplotlib.pyplot as plt\n",
    "from sklearn.model_selection import train_test_split\n",
    "from sklearn.metrics import mean_squared_error\n",
    "from sklearn.ensemble import GradientBoostingRegressor\n",
    "from sklearn.multioutput import MultiOutputRegressor\n",
    "import xgboost as xgb\n",
    "from utils import  data_preprocessing\n",
    " \n",
    "def data_preparation(num_feature, rho, num_row):\n",
    "    c = 0.3\n",
    "    u1 = np.random.randn(num_feature)\n",
    "    u1 = (u1 - np.mean(u1)) / (np.std(u1) * np.sqrt(num_feature))\n",
    "    u2 = np.random.randn(num_feature)\n",
    "    u2 -= u2.dot(u1) * u1\n",
    "    u2 /= np.linalg.norm(u2)\n",
    "\n",
    "    # k = np.random.randn(num_feature)\n",
    "    # u1 = np.random.randn(num_feature) \n",
    "    # u1 -= u1.dot(k) * k / np.linalg.norm(k)**2\n",
    "    # u1 /= np.linalg.norm(u1)\n",
    "    # k /= np.linalg.norm(k)\n",
    "    # u2 = k\n",
    "    w1 = c * u1\n",
    "    w2 = c * (rho * u1 + np.sqrt((1 - rho**2))*u2)\n",
    "    X = np.random.normal(0, 1, (num_row, num_feature))\n",
    "    eps1 = np.random.normal(0, 0.01)\n",
    "    eps2 = np.random.normal(0, 0.01)\n",
    "    Y1 = np.matmul(X, w1) + np.sin(np.matmul(X, w1))+eps1\n",
    "    Y2 = np.matmul(X, w2) + np.sin(np.matmul(X, w2))+eps2\n",
    "    X, target_df1, target_df2 = data_preprocessing(input_data=X, target_label1=Y1, target_label2=Y2)\n",
    "    Y = np.concatenate((target_df1, target_df2), axis=1)\n",
    "    return X, Y\n"
   ]
  },
  {
   "cell_type": "code",
   "execution_count": 2,
   "metadata": {},
   "outputs": [],
   "source": [
    "X, Y = data_preparation(num_feature=5, rho=0.3, num_row=1000)"
   ]
  },
  {
   "cell_type": "code",
   "execution_count": 4,
   "metadata": {},
   "outputs": [
    {
     "name": "stdout",
     "output_type": "stream",
     "text": [
      "RMSE: 0.028007\n",
      "y1 RMSE:0.0260\n",
      "y2 RMSE:0.0299\n"
     ]
    }
   ],
   "source": [
    "# Create the training and test sets\n",
    "X_train, X_test, y_train, y_test = train_test_split(X, Y, test_size=0.2, random_state=123)\n",
    "\n",
    "# Instantiatethe XGBRegressor: xg_reg\n",
    "xg_reg = xgb.XGBRegressor(objective='reg:squarederror', seed=123, n_estimators=10)\n",
    "\n",
    "# Fit the regressor to the training set\n",
    "xg_reg.fit(X_train, y_train)\n",
    "\n",
    "# Predict the labels of the test set: preds\n",
    "preds = xg_reg.predict(X_test)\n",
    "\n",
    "# compute the rmse: rmse\n",
    "rmse = np.sqrt(mean_squared_error(y_test, preds))\n",
    "print(\"RMSE: %f\" % (rmse))\n",
    "\n",
    "print(\"y1 RMSE:%.4f\" % np.sqrt(mean_squared_error(y_test[:,0], preds[:,0])))\n",
    "print(\"y2 RMSE:%.4f\" % np.sqrt(mean_squared_error(y_test[:,1], preds[:,1])))"
   ]
  },
  {
   "cell_type": "code",
   "execution_count": 5,
   "metadata": {},
   "outputs": [
    {
     "name": "stdout",
     "output_type": "stream",
     "text": [
      "RMSE: 0.127017\n",
      "y1 RMSE:0.1217\n",
      "y2 RMSE:0.1321\n"
     ]
    }
   ],
   "source": [
    "DM_train = xgb.DMatrix(data=X_train, label=y_train)\n",
    "DM_test = xgb.DMatrix(data=X_test, label=y_test)\n",
    "\n",
    "# Create the parameter dictionary: params\n",
    "params = {\"booster\":\"gblinear\", \"objective\":\"reg:squarederror\"}\n",
    "\n",
    "# Train the model: xg_reg\n",
    "xg_reg = xgb.train(params=params, dtrain=DM_train, num_boost_round=5)\n",
    "\n",
    "# Predict the labels of the test set: preds\n",
    "preds = xg_reg.predict(DM_test)\n",
    "\n",
    "# Compute and print the RMSE\n",
    "rmse = np.sqrt(mean_squared_error(y_test, preds))\n",
    "print(\"RMSE: %f\" % (rmse))\n",
    "print(\"y1 RMSE:%.4f\" % np.sqrt(mean_squared_error(y_test[:,0], preds[:,0])))\n",
    "print(\"y2 RMSE:%.4f\" % np.sqrt(mean_squared_error(y_test[:,1], preds[:,1])))"
   ]
  },
  {
   "cell_type": "code",
   "execution_count": 6,
   "metadata": {},
   "outputs": [
    {
     "name": "stdout",
     "output_type": "stream",
     "text": [
      "   train-rmse-mean  train-rmse-std  test-rmse-mean  test-rmse-std\n",
      "0         0.121974        0.000579        0.123404       0.002280\n",
      "1         0.092079        0.000404        0.094841       0.001850\n",
      "2         0.070704        0.000351        0.074634       0.001531\n",
      "3         0.055134        0.000372        0.060338       0.001570\n",
      "4         0.043980        0.000300        0.050226       0.001366\n",
      "4    0.050226\n",
      "Name: test-rmse-mean, dtype: float64\n"
     ]
    }
   ],
   "source": [
    "dmatrix = xgb.DMatrix(data=X, label=Y)\n",
    "\n",
    "# Create the parameter dictionary: params\n",
    "params = {\"objective\":\"reg:squarederror\", \"max_depth\":4}\n",
    "\n",
    "# Perform cross-valdiation: cv_results\n",
    "cv_results = xgb.cv(dtrain=dmatrix, params=params, nfold=4,\n",
    "                    num_boost_round=5, metrics='rmse', as_pandas=True, seed=123)\n",
    "\n",
    "# Print cv_results\n",
    "print(cv_results)\n",
    "\n",
    "# Extract and print final boosting round metric\n",
    "print((cv_results['test-rmse-mean']).tail(1))"
   ]
  },
  {
   "cell_type": "code",
   "execution_count": 7,
   "metadata": {},
   "outputs": [
    {
     "name": "stdout",
     "output_type": "stream",
     "text": [
      "   train-mae-mean  train-mae-std  test-mae-mean  test-mae-std\n",
      "0        0.097289       0.000665       0.098175      0.002450\n",
      "1        0.072559       0.000627       0.074407      0.002004\n",
      "2        0.055085       0.000446       0.057764      0.001687\n",
      "3        0.042420       0.000279       0.046000      0.001457\n",
      "4        0.033237       0.000335       0.037637      0.001042\n",
      "4    0.037637\n",
      "Name: test-mae-mean, dtype: float64\n"
     ]
    }
   ],
   "source": [
    "dmatrix = xgb.DMatrix(data=X, label=Y)\n",
    "\n",
    "# Create the parameter dictionary: params\n",
    "params = {\"objective\":\"reg:squarederror\", \"max_depth\":4}\n",
    "\n",
    "# Perform cross-valdiation: cv_results\n",
    "cv_results = xgb.cv(dtrain=dmatrix, params=params, nfold=4,\n",
    "                    num_boost_round=5, metrics='mae', as_pandas=True, seed=123)\n",
    "\n",
    "# Print cv_results\n",
    "print(cv_results)\n",
    "\n",
    "# Extract and print final boosting round metric\n",
    "print((cv_results['test-mae-mean']).tail(1))"
   ]
  },
  {
   "cell_type": "code",
   "execution_count": 9,
   "metadata": {},
   "outputs": [
    {
     "name": "stdout",
     "output_type": "stream",
     "text": [
      "Best rmse as a function of l2:\n",
      "    l2      rmse\n",
      "0    1  0.060424\n",
      "1   10  0.067673\n",
      "2  100  0.097445\n"
     ]
    }
   ],
   "source": [
    "import pandas as pd\n",
    "dmatrix = xgb.DMatrix(data=X, label=Y)\n",
    "\n",
    "reg_params = [1, 10, 100]\n",
    "\n",
    "# Create the initial parameter dictionary for varying l2 strength: params\n",
    "params = {\"objective\":\"reg:squarederror\", \"max_depth\":3}\n",
    "\n",
    "# Create an empty list for storing rmses as a function of l2 complexity\n",
    "rmses_l2 = []\n",
    "\n",
    "# Iterate over reg_params\n",
    "for reg in reg_params:\n",
    "    # Update l2 strength\n",
    "    params['lambda'] = reg\n",
    "    \n",
    "    # Pass this updated param dictionary into cv\n",
    "    cv_results_rmse = xgb.cv(dtrain=dmatrix, params=params, nfold=2,\n",
    "                            num_boost_round=5, metrics='rmse', as_pandas=True, seed=123)\n",
    "    \n",
    "    # Append best rmse (final round) to rmses_l2\n",
    "    rmses_l2.append(cv_results_rmse['test-rmse-mean'].tail(1).values[0])\n",
    "    \n",
    "# Loot at best rmse per l2 param\n",
    "print(\"Best rmse as a function of l2:\")\n",
    "print(pd.DataFrame(list(zip(reg_params, rmses_l2)), columns=[\"l2\", \"rmse\"]))"
   ]
  },
  {
   "cell_type": "code",
   "execution_count": 10,
   "metadata": {},
   "outputs": [
    {
     "data": {
      "image/png": "[encoded data removed]",
      "text/plain": [
       "<Figure size 432x288 with 1 Axes>"
      ]
     },
     "metadata": {
      "needs_background": "light"
     },
     "output_type": "display_data"
    }
   ],
   "source": [
    "dmatrix = xgb.DMatrix(data=X, label=Y)\n",
    "\n",
    "# Create the parameter dictionary: params\n",
    "params = {\"objective\":\"reg:squarederror\", \"max_depth\":4}\n",
    "\n",
    "# Train the model: xg_reg\n",
    "xg_reg = xgb.train(dtrain=dmatrix, params=params, num_boost_round=10)\n",
    "\n",
    "# Plot the feature importance\n",
    "xgb.plot_importance(xg_reg);\n",
    "plt.tight_layout()"
   ]
  },
  {
   "cell_type": "code",
   "execution_count": 11,
   "metadata": {},
   "outputs": [
    {
     "name": "stdout",
     "output_type": "stream",
     "text": [
      "-0.021342667944247645 0.0022638649686283273\n",
      "[-0.02071105 -0.01969938 -0.01993125 -0.02121442 -0.02090855 -0.0215668\n",
      " -0.02582508 -0.02414945 -0.02222085 -0.01719984]\n"
     ]
    }
   ],
   "source": [
    "import numpy as num\n",
    "from sklearn.model_selection import cross_val_score\n",
    "xgboo_reg = xgb.XGBRegressor()\n",
    "\n",
    "ourScores = cross_val_score(xgboo_reg, X_train, y_train , scoring = 'neg_root_mean_squared_error', n_jobs = -1, cv = 10)\n",
    "#cross_val_score has a `neg_root_mean_squared_error` can be turned into a positive value by multiplying it by -1\n",
    "print(num.mean(ourScores), num.std(ourScores))\n",
    "print(ourScores) # output: score of our model"
   ]
  },
  {
   "cell_type": "code",
   "execution_count": 14,
   "metadata": {},
   "outputs": [],
   "source": [
    "def return_score(param):\n",
    "    ourNewModel = xgb.XGBRegressor(**param)\n",
    "  # A value that has been cross-validated for -(neg_root_mean_squared_error) is returned when parameters are used as a keyword argument by return_score() method.\n",
    "    rootMeanSquareError = num.mean(cross_val_score(ourNewModel, X_train[:1000],y_train[:1000], cv = 4, n_jobs =-1, scoring='neg_root_mean_squared_error')) # training 1000 samples in both first part 'X_train' an second part 'y_train'\n",
    "    return rootMeanSquareError"
   ]
  },
  {
   "cell_type": "code",
   "execution_count": 15,
   "metadata": {},
   "outputs": [],
   "source": [
    "import optuna\n",
    "from optuna import Trial, visualization # visualizations that plot the optimization results\n",
    "from optuna.samplers import TPESampler # Samplers class that defines the hyper-parameter space"
   ]
  },
  {
   "cell_type": "code",
   "execution_count": 18,
   "metadata": {},
   "outputs": [],
   "source": [
    "def objective(trial):\n",
    "    parameter = {\n",
    "      \"n_estimators\" : trial.suggest_int('estimators', 0, 500), # show integer parameters between 0 and 500 for estimators\n",
    "      'max_depth':trial.suggest_int('depth', 3, 5), # show integer parameters between 3 and 5 for depth\n",
    "      'reg_alpha':trial.suggest_uniform('alpha',0,6), # set a uniformly distributed numbers between 0 and 6 for alpha\n",
    "      'reg_lambda':trial.suggest_uniform('lambda',0,2), # set a uniformly distributed numbers between 0 and 2 for lambda\n",
    "      'min_child_weight':trial.suggest_int('childweight',0,5), # show integer parameters between 0 and 5 for childweight\n",
    "      'gamma':trial.suggest_uniform('ourgamma', 0, 4), # set a uniformly distributed numbers between 0 and 4 for gamma\n",
    "      'learning_rate':trial.suggest_loguniform('ourlearning_rate',0.05,0.5), # set a log distribution between 0.05 and 0.5 for learning rate\n",
    "      'colsample_bytree':trial.suggest_uniform('colsample_bytree',0.4,0.9), # set a uniformly distributed numbers between 0.4 and 0.9 for colsample_bytree\n",
    "      'subsample':trial.suggest_uniform('sample',0.4,0.9),\n",
    "      'nthread' : -1\n",
    "    }\n",
    "  #returns the regressionModelse score\n",
    "    return(return_score(parameter))"
   ]
  },
  {
   "cell_type": "code",
   "execution_count": 19,
   "metadata": {},
   "outputs": [
    {
     "name": "stderr",
     "output_type": "stream",
     "text": [
      "\u001b[32m[I 2023-01-07 00:56:54,381]\u001b[0m A new study created in memory with name: no-name-aebe582d-b2a5-4f84-a9c9-088050b66d9d\u001b[0m\n",
      "\u001b[32m[I 2023-01-07 00:56:55,001]\u001b[0m Trial 0 finished with value: -0.10112562793001874 and parameters: {'estimators': 283, 'depth': 5, 'alpha': 4.050725738312592, 'lambda': 1.2732348335472174, 'childweight': 3, 'ourgamma': 0.3033992792570661, 'ourlearning_rate': 0.39018539363813354, 'colsample_bytree': 0.8471007724816808, 'sample': 0.44265872681478186}. Best is trial 0 with value: -0.10112562793001874.\u001b[0m\n",
      "\u001b[32m[I 2023-01-07 00:56:55,241]\u001b[0m Trial 1 finished with value: -0.09964130568041424 and parameters: {'estimators': 292, 'depth': 3, 'alpha': 3.250589223978798, 'lambda': 1.2742275825853553, 'childweight': 4, 'ourgamma': 0.8439325199598637, 'ourlearning_rate': 0.14746121910274396, 'colsample_bytree': 0.4476423967193198, 'sample': 0.8099530722660511}. Best is trial 0 with value: -0.10112562793001874.\u001b[0m\n",
      "\u001b[32m[I 2023-01-07 00:56:55,420]\u001b[0m Trial 2 finished with value: -0.09875378003469146 and parameters: {'estimators': 211, 'depth': 3, 'alpha': 3.165259695699106, 'lambda': 0.11284028907390731, 'childweight': 4, 'ourgamma': 0.3071439485960088, 'ourlearning_rate': 0.15162307598636987, 'colsample_bytree': 0.5415801374511995, 'sample': 0.4218009727200314}. Best is trial 0 with value: -0.10112562793001874.\u001b[0m\n",
      "\u001b[32m[I 2023-01-07 00:56:55,871]\u001b[0m Trial 3 finished with value: -0.13865209704433568 and parameters: {'estimators': 334, 'depth': 5, 'alpha': 5.381143370169104, 'lambda': 0.3176983503676374, 'childweight': 0, 'ourgamma': 3.1084797138667186, 'ourlearning_rate': 0.4747429418036876, 'colsample_bytree': 0.8272227548432489, 'sample': 0.6431053126391902}. Best is trial 3 with value: -0.13865209704433568.\u001b[0m\n",
      "\u001b[32m[I 2023-01-07 00:56:56,178]\u001b[0m Trial 4 finished with value: -0.12460071216480907 and parameters: {'estimators': 394, 'depth': 3, 'alpha': 3.3913616807056033, 'lambda': 1.0787116356503728, 'childweight': 4, 'ourgamma': 2.5040105132670574, 'ourlearning_rate': 0.3142799410149002, 'colsample_bytree': 0.5087109120460624, 'sample': 0.8632333671602848}. Best is trial 3 with value: -0.13865209704433568.\u001b[0m\n",
      "\u001b[32m[I 2023-01-07 00:56:56,231]\u001b[0m Trial 5 finished with value: -0.14397003543356823 and parameters: {'estimators': 45, 'depth': 3, 'alpha': 3.134203169272798, 'lambda': 1.0898471507347562, 'childweight': 3, 'ourgamma': 2.030551426622894, 'ourlearning_rate': 0.05409736691606374, 'colsample_bytree': 0.7621107147694066, 'sample': 0.5019885946977036}. Best is trial 5 with value: -0.14397003543356823.\u001b[0m\n",
      "\u001b[32m[I 2023-01-07 00:56:56,584]\u001b[0m Trial 6 finished with value: -0.14902978237141423 and parameters: {'estimators': 398, 'depth': 4, 'alpha': 5.750566764137972, 'lambda': 1.240782928786711, 'childweight': 2, 'ourgamma': 2.9025710327136585, 'ourlearning_rate': 0.06318734171318523, 'colsample_bytree': 0.4652947848139224, 'sample': 0.7618721707580911}. Best is trial 6 with value: -0.14902978237141423.\u001b[0m\n",
      "\u001b[32m[I 2023-01-07 00:56:56,740]\u001b[0m Trial 7 finished with value: -0.13767679332508814 and parameters: {'estimators': 183, 'depth': 4, 'alpha': 5.613073857617488, 'lambda': 0.5233053107480854, 'childweight': 1, 'ourgamma': 2.1443585058358323, 'ourlearning_rate': 0.11174786830949053, 'colsample_bytree': 0.5631948236497759, 'sample': 0.7903834329177053}. Best is trial 6 with value: -0.14902978237141423.\u001b[0m\n",
      "\u001b[32m[I 2023-01-07 00:56:56,979]\u001b[0m Trial 8 finished with value: -0.1441573023909029 and parameters: {'estimators': 272, 'depth': 5, 'alpha': 2.5237705065455893, 'lambda': 0.4246274974728923, 'childweight': 0, 'ourgamma': 3.620474770530277, 'ourlearning_rate': 0.1332204159746321, 'colsample_bytree': 0.5279058374516359, 'sample': 0.7265008092494399}. Best is trial 6 with value: -0.14902978237141423.\u001b[0m\n",
      "\u001b[32m[I 2023-01-07 00:56:57,008]\u001b[0m Trial 9 finished with value: -0.12180567449852484 and parameters: {'estimators': 9, 'depth': 3, 'alpha': 0.5563526943752899, 'lambda': 0.9941672804905677, 'childweight': 0, 'ourgamma': 0.02883319196398082, 'ourlearning_rate': 0.06584056284667857, 'colsample_bytree': 0.7872371649722849, 'sample': 0.6457841528506435}. Best is trial 6 with value: -0.14902978237141423.\u001b[0m\n",
      "\u001b[32m[I 2023-01-07 00:56:57,529]\u001b[0m Trial 10 finished with value: -0.15287205016273966 and parameters: {'estimators': 462, 'depth': 4, 'alpha': 1.4884789926461819, 'lambda': 1.9860766826168526, 'childweight': 2, 'ourgamma': 3.936410942392574, 'ourlearning_rate': 0.08960663409427705, 'colsample_bytree': 0.6613379816937184, 'sample': 0.5846222464217534}. Best is trial 10 with value: -0.15287205016273966.\u001b[0m\n",
      "\u001b[32m[I 2023-01-07 00:56:58,016]\u001b[0m Trial 11 finished with value: -0.15013991518487912 and parameters: {'estimators': 464, 'depth': 4, 'alpha': 1.0360554415134633, 'lambda': 1.9547474755535137, 'childweight': 2, 'ourgamma': 3.860771643548938, 'ourlearning_rate': 0.0839758957457537, 'colsample_bytree': 0.6641610387647099, 'sample': 0.584280930268934}. Best is trial 10 with value: -0.15287205016273966.\u001b[0m\n",
      "\u001b[32m[I 2023-01-07 00:56:58,531]\u001b[0m Trial 12 finished with value: -0.1507410763792572 and parameters: {'estimators': 482, 'depth': 4, 'alpha': 1.0309069756381968, 'lambda': 1.9704179282396599, 'childweight': 2, 'ourgamma': 3.831441055629769, 'ourlearning_rate': 0.08752736958882958, 'colsample_bytree': 0.677676387999779, 'sample': 0.5713433901261059}. Best is trial 10 with value: -0.15287205016273966.\u001b[0m\n",
      "\u001b[32m[I 2023-01-07 00:56:59,046]\u001b[0m Trial 13 finished with value: -0.14631166252924066 and parameters: {'estimators': 490, 'depth': 4, 'alpha': 1.7217624055209861, 'lambda': 1.9585707895223508, 'childweight': 1, 'ourgamma': 3.3699321674256355, 'ourlearning_rate': 0.23253607967791834, 'colsample_bytree': 0.6672388810666933, 'sample': 0.5319083716984321}. Best is trial 10 with value: -0.15287205016273966.\u001b[0m\n",
      "\u001b[32m[I 2023-01-07 00:56:59,525]\u001b[0m Trial 14 finished with value: -0.14733583051456428 and parameters: {'estimators': 411, 'depth': 4, 'alpha': 0.029132201946798997, 'lambda': 1.678036644356376, 'childweight': 2, 'ourgamma': 3.9189651981774514, 'ourlearning_rate': 0.09659643866018873, 'colsample_bytree': 0.7259251462785992, 'sample': 0.5714219532545707}. Best is trial 10 with value: -0.15287205016273966.\u001b[0m\n",
      "\u001b[32m[I 2023-01-07 00:57:00,049]\u001b[0m Trial 15 finished with value: -0.10754446052897164 and parameters: {'estimators': 499, 'depth': 4, 'alpha': 1.7118544141620124, 'lambda': 1.6407349315732418, 'childweight': 5, 'ourgamma': 1.348939021273139, 'ourlearning_rate': 0.08532326137678703, 'colsample_bytree': 0.607539105461737, 'sample': 0.7000743112243006}. Best is trial 10 with value: -0.15287205016273966.\u001b[0m\n",
      "\u001b[32m[I 2023-01-07 00:57:00,231]\u001b[0m Trial 16 finished with value: -0.14396756413129652 and parameters: {'estimators': 124, 'depth': 5, 'alpha': 1.6078171464394784, 'lambda': 1.6362676775208969, 'childweight': 1, 'ourgamma': 2.7887794843575646, 'ourlearning_rate': 0.19283046752367675, 'colsample_bytree': 0.7077154083644167, 'sample': 0.48977954648809074}. Best is trial 10 with value: -0.15287205016273966.\u001b[0m\n",
      "\u001b[32m[I 2023-01-07 00:57:00,608]\u001b[0m Trial 17 finished with value: -0.12128419525731951 and parameters: {'estimators': 350, 'depth': 4, 'alpha': 2.3107997807187415, 'lambda': 0.7815306964709454, 'childweight': 3, 'ourgamma': 1.5462415804293852, 'ourlearning_rate': 0.07309909543960624, 'colsample_bytree': 0.6151385900472999, 'sample': 0.5865540182852124}. Best is trial 10 with value: -0.15287205016273966.\u001b[0m\n",
      "\u001b[32m[I 2023-01-07 00:57:01,163]\u001b[0m Trial 18 finished with value: -0.13836530709855904 and parameters: {'estimators': 438, 'depth': 5, 'alpha': 0.6662042087073023, 'lambda': 1.7911485109215484, 'childweight': 2, 'ourgamma': 3.394647869867807, 'ourlearning_rate': 0.05000865284773635, 'colsample_bytree': 0.6250854903566551, 'sample': 0.6793031828286308}. Best is trial 10 with value: -0.15287205016273966.\u001b[0m\n",
      "\u001b[32m[I 2023-01-07 00:57:01,551]\u001b[0m Trial 19 finished with value: -0.14954288486594752 and parameters: {'estimators': 353, 'depth': 4, 'alpha': 1.3352200991941934, 'lambda': 1.403646150457237, 'childweight': 1, 'ourgamma': 3.989279891084803, 'ourlearning_rate': 0.11360171322090094, 'colsample_bytree': 0.7143834864105347, 'sample': 0.6109381125026586}. Best is trial 10 with value: -0.15287205016273966.\u001b[0m\n",
      "\u001b[32m[I 2023-01-07 00:57:01,968]\u001b[0m Trial 20 finished with value: -0.14407454397215314 and parameters: {'estimators': 441, 'depth': 4, 'alpha': 2.250702662931774, 'lambda': 1.4699072542883846, 'childweight': 3, 'ourgamma': 2.6121291661703183, 'ourlearning_rate': 0.11379160155218872, 'colsample_bytree': 0.772480281216122, 'sample': 0.5285940776754403}. Best is trial 10 with value: -0.15287205016273966.\u001b[0m\n",
      "\u001b[32m[I 2023-01-07 00:57:02,442]\u001b[0m Trial 21 finished with value: -0.148543953421157 and parameters: {'estimators': 464, 'depth': 4, 'alpha': 1.0106404390410921, 'lambda': 1.9553689758509927, 'childweight': 2, 'ourgamma': 3.6403676234761853, 'ourlearning_rate': 0.08182983439095264, 'colsample_bytree': 0.6793518797745597, 'sample': 0.5542545407424768}. Best is trial 10 with value: -0.15287205016273966.\u001b[0m\n",
      "\u001b[32m[I 2023-01-07 00:57:02,830]\u001b[0m Trial 22 finished with value: -0.14479714647567998 and parameters: {'estimators': 452, 'depth': 4, 'alpha': 0.10829804009623145, 'lambda': 1.9984763664667922, 'childweight': 2, 'ourgamma': 3.2415326592892453, 'ourlearning_rate': 0.09304444937702573, 'colsample_bytree': 0.5822531977354334, 'sample': 0.47500863672690574}. Best is trial 10 with value: -0.15287205016273966.\u001b[0m\n",
      "\u001b[32m[I 2023-01-07 00:57:03,345]\u001b[0m Trial 23 finished with value: -0.14915652351135958 and parameters: {'estimators': 494, 'depth': 4, 'alpha': 1.0482759700238238, 'lambda': 1.8093463880561416, 'childweight': 1, 'ourgamma': 3.9681991088268456, 'ourlearning_rate': 0.07189727658300574, 'colsample_bytree': 0.6509470591922917, 'sample': 0.6191856597362326}. Best is trial 10 with value: -0.15287205016273966.\u001b[0m\n",
      "\u001b[32m[I 2023-01-07 00:57:03,683]\u001b[0m Trial 24 finished with value: -0.14380279167652532 and parameters: {'estimators': 386, 'depth': 4, 'alpha': 0.6349757980248256, 'lambda': 1.8083821830012037, 'childweight': 2, 'ourgamma': 3.6726939601226776, 'ourlearning_rate': 0.19237931048941023, 'colsample_bytree': 0.4009747606917199, 'sample': 0.5900408105420426}. Best is trial 10 with value: -0.15287205016273966.\u001b[0m\n",
      "\u001b[32m[I 2023-01-07 00:57:04,095]\u001b[0m Trial 25 finished with value: -0.1385646219007965 and parameters: {'estimators': 327, 'depth': 4, 'alpha': 2.026753372559007, 'lambda': 1.5010648759659007, 'childweight': 3, 'ourgamma': 3.002536079964969, 'ourlearning_rate': 0.10180091874727282, 'colsample_bytree': 0.8990183760229885, 'sample': 0.659177047801011}. Best is trial 10 with value: -0.15287205016273966.\u001b[0m\n",
      "\u001b[32m[I 2023-01-07 00:57:04,443]\u001b[0m Trial 26 finished with value: -0.16455607486120705 and parameters: {'estimators': 429, 'depth': 3, 'alpha': 4.396167166241874, 'lambda': 1.8283841875082902, 'childweight': 2, 'ourgamma': 3.482357588003182, 'ourlearning_rate': 0.06093314964981903, 'colsample_bytree': 0.6868775545853822, 'sample': 0.5169862379664528}. Best is trial 26 with value: -0.16455607486120705.\u001b[0m\n",
      "\u001b[32m[I 2023-01-07 00:57:04,737]\u001b[0m Trial 27 finished with value: -0.1606226371900924 and parameters: {'estimators': 376, 'depth': 3, 'alpha': 4.768984784716605, 'lambda': 1.771164758481583, 'childweight': 1, 'ourgamma': 2.32882507424414, 'ourlearning_rate': 0.060674377275924785, 'colsample_bytree': 0.7446663358090495, 'sample': 0.4518941260136009}. Best is trial 26 with value: -0.16455607486120705.\u001b[0m\n",
      "\u001b[32m[I 2023-01-07 00:57:05,058]\u001b[0m Trial 28 finished with value: -0.14668711553263214 and parameters: {'estimators': 412, 'depth': 3, 'alpha': 4.945831669852143, 'lambda': 1.7019702480128243, 'childweight': 1, 'ourgamma': 1.5468377509054778, 'ourlearning_rate': 0.054682581245125435, 'colsample_bytree': 0.7432148356701483, 'sample': 0.46787342903568224}. Best is trial 26 with value: -0.16455607486120705.\u001b[0m\n",
      "\u001b[32m[I 2023-01-07 00:57:05,380]\u001b[0m Trial 29 finished with value: -0.16316681409520814 and parameters: {'estimators': 370, 'depth': 3, 'alpha': 4.377576306396176, 'lambda': 1.53449343660178, 'childweight': 0, 'ourgamma': 2.4013293162774696, 'ourlearning_rate': 0.06135212145889472, 'colsample_bytree': 0.8049992102782093, 'sample': 0.4065757764913654}. Best is trial 26 with value: -0.16455607486120705.\u001b[0m\n",
      "\u001b[32m[I 2023-01-07 00:57:05,657]\u001b[0m Trial 30 finished with value: -0.15953979226868836 and parameters: {'estimators': 298, 'depth': 3, 'alpha': 4.307166895974868, 'lambda': 1.3310316068274877, 'childweight': 0, 'ourgamma': 2.175164304277654, 'ourlearning_rate': 0.060866352857287837, 'colsample_bytree': 0.8153863400128722, 'sample': 0.41161204712248756}. Best is trial 26 with value: -0.16455607486120705.\u001b[0m\n",
      "\u001b[32m[I 2023-01-07 00:57:06,023]\u001b[0m Trial 31 finished with value: -0.16245150848204712 and parameters: {'estimators': 302, 'depth': 3, 'alpha': 4.279355346888161, 'lambda': 1.299722995205847, 'childweight': 0, 'ourgamma': 2.3023656442824705, 'ourlearning_rate': 0.05896652599381564, 'colsample_bytree': 0.8242146619981437, 'sample': 0.4032864949621673}. Best is trial 26 with value: -0.16455607486120705.\u001b[0m\n",
      "\u001b[32m[I 2023-01-07 00:57:06,336]\u001b[0m Trial 32 finished with value: -0.1597428151285347 and parameters: {'estimators': 256, 'depth': 3, 'alpha': 4.155495572104664, 'lambda': 1.5332987338991941, 'childweight': 0, 'ourgamma': 2.3991044697677935, 'ourlearning_rate': 0.058529698735596415, 'colsample_bytree': 0.8707653451356991, 'sample': 0.44154540900382455}. Best is trial 26 with value: -0.16455607486120705.\u001b[0m\n",
      "\u001b[32m[I 2023-01-07 00:57:06,562]\u001b[0m Trial 33 finished with value: -0.15470736762203507 and parameters: {'estimators': 217, 'depth': 3, 'alpha': 4.534694305067111, 'lambda': 1.1745595570197862, 'childweight': 0, 'ourgamma': 1.7348784124134062, 'ourlearning_rate': 0.07184285130692052, 'colsample_bytree': 0.8025085166727677, 'sample': 0.40180847233607864}. Best is trial 26 with value: -0.16455607486120705.\u001b[0m\n",
      "\u001b[32m[I 2023-01-07 00:57:06,890]\u001b[0m Trial 34 finished with value: -0.14744926087694543 and parameters: {'estimators': 311, 'depth': 3, 'alpha': 3.695363021084423, 'lambda': 0.8525275854870998, 'childweight': 0, 'ourgamma': 1.7912109767357367, 'ourlearning_rate': 0.051433232350371255, 'colsample_bytree': 0.8450797824480708, 'sample': 0.44046430964071176}. Best is trial 26 with value: -0.16455607486120705.\u001b[0m\n",
      "\u001b[32m[I 2023-01-07 00:57:07,223]\u001b[0m Trial 35 finished with value: -0.15967314981073585 and parameters: {'estimators': 354, 'depth': 3, 'alpha': 4.7367748356895705, 'lambda': 1.4003260798940615, 'childweight': 1, 'ourgamma': 2.373158496343067, 'ourlearning_rate': 0.07197562441715093, 'colsample_bytree': 0.8426997441375672, 'sample': 0.4559397574055434}. Best is trial 26 with value: -0.16455607486120705.\u001b[0m\n",
      "\u001b[32m[I 2023-01-07 00:57:08,012]\u001b[0m Trial 36 finished with value: -0.16066637501125686 and parameters: {'estimators': 375, 'depth': 3, 'alpha': 5.0840010389404915, 'lambda': 0.03297850524311341, 'childweight': 0, 'ourgamma': 2.6991289668938556, 'ourlearning_rate': 0.06459493182796104, 'colsample_bytree': 0.7560898202677206, 'sample': 0.5117108583248308}. Best is trial 26 with value: -0.16455607486120705.\u001b[0m\n",
      "\u001b[32m[I 2023-01-07 00:57:08,330]\u001b[0m Trial 37 finished with value: -0.14230693804892267 and parameters: {'estimators': 284, 'depth': 3, 'alpha': 3.779463788750621, 'lambda': 0.012916595188012803, 'childweight': 5, 'ourgamma': 2.6989222431958133, 'ourlearning_rate': 0.40056719791927387, 'colsample_bytree': 0.8789929521772912, 'sample': 0.5158019287361381}. Best is trial 26 with value: -0.16455607486120705.\u001b[0m\n",
      "\u001b[32m[I 2023-01-07 00:57:08,597]\u001b[0m Trial 38 finished with value: -0.1419597273735957 and parameters: {'estimators': 237, 'depth': 3, 'alpha': 5.426689145335998, 'lambda': 0.6469543637292152, 'childweight': 0, 'ourgamma': 1.1039003218996966, 'ourlearning_rate': 0.1368869139871127, 'colsample_bytree': 0.7907947783165642, 'sample': 0.42692246407550494}. Best is trial 26 with value: -0.16455607486120705.\u001b[0m\n",
      "\u001b[32m[I 2023-01-07 00:57:09,038]\u001b[0m Trial 39 finished with value: -0.14671500606869312 and parameters: {'estimators': 420, 'depth': 3, 'alpha': 5.994138809936387, 'lambda': 0.34282392761740055, 'childweight': 4, 'ourgamma': 3.0802538658969425, 'ourlearning_rate': 0.06947381713434549, 'colsample_bytree': 0.7661233691463121, 'sample': 0.8818569579219683}. Best is trial 26 with value: -0.16455607486120705.\u001b[0m\n",
      "\u001b[32m[I 2023-01-07 00:57:09,399]\u001b[0m Trial 40 finished with value: -0.11885343806787926 and parameters: {'estimators': 377, 'depth': 3, 'alpha': 5.057885237780189, 'lambda': 0.9671452016206443, 'childweight': 0, 'ourgamma': 0.6479148966826023, 'ourlearning_rate': 0.2894745986496424, 'colsample_bytree': 0.7009771447790104, 'sample': 0.4863670116767682}. Best is trial 26 with value: -0.16455607486120705.\u001b[0m\n",
      "\u001b[32m[I 2023-01-07 00:57:09,694]\u001b[0m Trial 41 finished with value: -0.15940085233693124 and parameters: {'estimators': 372, 'depth': 3, 'alpha': 3.8379478468922783, 'lambda': 1.5625838147999236, 'childweight': 1, 'ourgamma': 2.2606525852719628, 'ourlearning_rate': 0.059873459601034434, 'colsample_bytree': 0.7419449864292642, 'sample': 0.4026096404241553}. Best is trial 26 with value: -0.16455607486120705.\u001b[0m\n",
      "\u001b[32m[I 2023-01-07 00:57:10,057]\u001b[0m Trial 42 finished with value: -0.15649013968680917 and parameters: {'estimators': 325, 'depth': 3, 'alpha': 5.214335831472555, 'lambda': 1.1917177824643423, 'childweight': 0, 'ourgamma': 1.9492100246127104, 'ourlearning_rate': 0.058006930812102946, 'colsample_bytree': 0.8198808671581368, 'sample': 0.4555510085234291}. Best is trial 26 with value: -0.16455607486120705.\u001b[0m\n",
      "\u001b[32m[I 2023-01-07 00:57:10,381]\u001b[0m Trial 43 finished with value: -0.16240428562140158 and parameters: {'estimators': 377, 'depth': 3, 'alpha': 4.502088060056431, 'lambda': 1.3150301814814016, 'childweight': 0, 'ourgamma': 2.541707799933564, 'ourlearning_rate': 0.07784991721327546, 'colsample_bytree': 0.7456317836057088, 'sample': 0.4316053938977122}. Best is trial 26 with value: -0.16455607486120705.\u001b[0m\n",
      "\u001b[32m[I 2023-01-07 00:57:10,558]\u001b[0m Trial 44 finished with value: -0.1630740166896425 and parameters: {'estimators': 176, 'depth': 3, 'alpha': 4.493742724061274, 'lambda': 0.1900056577491377, 'childweight': 0, 'ourgamma': 2.586469976570947, 'ourlearning_rate': 0.06438333802624403, 'colsample_bytree': 0.7803667724668583, 'sample': 0.4299738471907471}. Best is trial 26 with value: -0.16455607486120705.\u001b[0m\n",
      "\u001b[32m[I 2023-01-07 00:57:10,739]\u001b[0m Trial 45 finished with value: -0.15643955059498565 and parameters: {'estimators': 95, 'depth': 3, 'alpha': 2.956662588750177, 'lambda': 0.20929101080417417, 'childweight': 0, 'ourgamma': 2.546630548807084, 'ourlearning_rate': 0.07813419332932788, 'colsample_bytree': 0.786185417622273, 'sample': 0.4289910859456305}. Best is trial 26 with value: -0.16455607486120705.\u001b[0m\n",
      "\u001b[32m[I 2023-01-07 00:57:10,915]\u001b[0m Trial 46 finished with value: -0.16585369600389394 and parameters: {'estimators': 116, 'depth': 3, 'alpha': 4.391045259338774, 'lambda': 1.31661455452861, 'childweight': 0, 'ourgamma': 2.8698076558083527, 'ourlearning_rate': 0.05372254924796036, 'colsample_bytree': 0.8291641885237518, 'sample': 0.42771039497347463}. Best is trial 46 with value: -0.16585369600389394.\u001b[0m\n",
      "\u001b[32m[I 2023-01-07 00:57:11,105]\u001b[0m Trial 47 finished with value: -0.15914533939726705 and parameters: {'estimators': 179, 'depth': 3, 'alpha': 3.4498894839683145, 'lambda': 1.1047731694696283, 'childweight': 4, 'ourgamma': 2.8865942638288846, 'ourlearning_rate': 0.052037633713133864, 'colsample_bytree': 0.8651595341938942, 'sample': 0.478323039565689}. Best is trial 46 with value: -0.16585369600389394.\u001b[0m\n",
      "\u001b[32m[I 2023-01-07 00:57:11,262]\u001b[0m Trial 48 finished with value: -0.16576779873508937 and parameters: {'estimators': 141, 'depth': 3, 'alpha': 4.004283368700923, 'lambda': 1.4173270013171804, 'childweight': 1, 'ourgamma': 3.3384050641304657, 'ourlearning_rate': 0.06563447479487419, 'colsample_bytree': 0.8324598761227109, 'sample': 0.4013702167466795}. Best is trial 46 with value: -0.16585369600389394.\u001b[0m\n",
      "\u001b[32m[I 2023-01-07 00:57:11,433]\u001b[0m Trial 49 finished with value: -0.1628447334008786 and parameters: {'estimators': 135, 'depth': 3, 'alpha': 3.976660794193705, 'lambda': 1.429793741790222, 'childweight': 1, 'ourgamma': 3.3517519400618583, 'ourlearning_rate': 0.06658550531678045, 'colsample_bytree': 0.8514293321718625, 'sample': 0.502760467934099}. Best is trial 46 with value: -0.16585369600389394.\u001b[0m\n",
      "\u001b[32m[I 2023-01-07 00:57:11,560]\u001b[0m Trial 50 finished with value: -0.13949694464888257 and parameters: {'estimators': 71, 'depth': 3, 'alpha': 2.8369717965150185, 'lambda': 1.5680676293970983, 'childweight': 1, 'ourgamma': 3.2068538119935965, 'ourlearning_rate': 0.0556430505215693, 'colsample_bytree': 0.8355355403445552, 'sample': 0.8362023116688282}. Best is trial 46 with value: -0.16585369600389394.\u001b[0m\n",
      "\u001b[32m[I 2023-01-07 00:57:11,741]\u001b[0m Trial 51 finished with value: -0.16286406741553372 and parameters: {'estimators': 146, 'depth': 3, 'alpha': 3.994495406622024, 'lambda': 1.4139483087758715, 'childweight': 1, 'ourgamma': 3.337529911590614, 'ourlearning_rate': 0.06592590792370308, 'colsample_bytree': 0.8643003929388463, 'sample': 0.5011841092278002}. Best is trial 46 with value: -0.16585369600389394.\u001b[0m\n",
      "\u001b[32m[I 2023-01-07 00:57:12,013]\u001b[0m Trial 52 finished with value: -0.16050867086790863 and parameters: {'estimators': 167, 'depth': 3, 'alpha': 3.444036477307876, 'lambda': 1.2351991616906737, 'childweight': 1, 'ourgamma': 3.5133775474470776, 'ourlearning_rate': 0.0655761838492103, 'colsample_bytree': 0.8960423278940732, 'sample': 0.542258909950577}. Best is trial 46 with value: -0.16585369600389394.\u001b[0m\n",
      "\u001b[32m[I 2023-01-07 00:57:12,199]\u001b[0m Trial 53 finished with value: -0.16579289865131042 and parameters: {'estimators': 149, 'depth': 3, 'alpha': 4.485181373626803, 'lambda': 1.5926703291317452, 'childweight': 0, 'ourgamma': 2.9040708684943235, 'ourlearning_rate': 0.0771226926907056, 'colsample_bytree': 0.8038540374304273, 'sample': 0.4259823783923961}. Best is trial 46 with value: -0.16585369600389394.\u001b[0m\n",
      "\u001b[32m[I 2023-01-07 00:57:12,331]\u001b[0m Trial 54 finished with value: -0.1658432518446587 and parameters: {'estimators': 96, 'depth': 3, 'alpha': 4.536942745753429, 'lambda': 1.6062175209191814, 'childweight': 0, 'ourgamma': 2.948879654083217, 'ourlearning_rate': 0.07777007029896993, 'colsample_bytree': 0.807952141252842, 'sample': 0.4243737344692933}. Best is trial 46 with value: -0.16585369600389394.\u001b[0m\n",
      "\u001b[32m[I 2023-01-07 00:57:12,401]\u001b[0m Trial 55 finished with value: -0.1660908452849307 and parameters: {'estimators': 22, 'depth': 3, 'alpha': 4.702223432999426, 'lambda': 1.7056642768319337, 'childweight': 0, 'ourgamma': 2.912274181446726, 'ourlearning_rate': 0.07582630427253914, 'colsample_bytree': 0.8064148087853146, 'sample': 0.41925495385556766}. Best is trial 55 with value: -0.1660908452849307.\u001b[0m\n",
      "\u001b[32m[I 2023-01-07 00:57:12,482]\u001b[0m Trial 56 finished with value: -0.16598368437944183 and parameters: {'estimators': 36, 'depth': 3, 'alpha': 4.752993571952972, 'lambda': 1.7271435270468662, 'childweight': 0, 'ourgamma': 2.9410886963758207, 'ourlearning_rate': 0.09799563391351979, 'colsample_bytree': 0.8028920753930047, 'sample': 0.46768160389049407}. Best is trial 55 with value: -0.1660908452849307.\u001b[0m\n",
      "\u001b[32m[I 2023-01-07 00:57:12,536]\u001b[0m Trial 57 finished with value: -0.16629732730464866 and parameters: {'estimators': 0, 'depth': 3, 'alpha': 4.719067643312643, 'lambda': 1.6150605457278278, 'childweight': 0, 'ourgamma': 2.868833959925093, 'ourlearning_rate': 0.10555651811524946, 'colsample_bytree': 0.8025608696446037, 'sample': 0.4579976808080147}. Best is trial 57 with value: -0.16629732730464866.\u001b[0m\n",
      "\u001b[32m[I 2023-01-07 00:57:12,609]\u001b[0m Trial 58 finished with value: -0.16619684416217578 and parameters: {'estimators': 8, 'depth': 3, 'alpha': 5.574923963411668, 'lambda': 1.8754725987226546, 'childweight': 0, 'ourgamma': 2.928239935812426, 'ourlearning_rate': 0.10164266296680456, 'colsample_bytree': 0.808979591151368, 'sample': 0.4732269678199619}. Best is trial 57 with value: -0.16629732730464866.\u001b[0m\n",
      "\u001b[32m[I 2023-01-07 00:57:12,701]\u001b[0m Trial 59 finished with value: -0.16629732730464866 and parameters: {'estimators': 0, 'depth': 5, 'alpha': 5.607966449798706, 'lambda': 1.7193967231345937, 'childweight': 0, 'ourgamma': 3.123849921215936, 'ourlearning_rate': 0.10439464531286609, 'colsample_bytree': 0.7683852311742856, 'sample': 0.4651507040006703}. Best is trial 57 with value: -0.16629732730464866.\u001b[0m\n",
      "\u001b[32m[I 2023-01-07 00:57:12,778]\u001b[0m Trial 60 finished with value: -0.16615188704943307 and parameters: {'estimators': 20, 'depth': 5, 'alpha': 5.688079570068181, 'lambda': 1.8878415924690224, 'childweight': 0, 'ourgamma': 3.120098548466882, 'ourlearning_rate': 0.10441797979518921, 'colsample_bytree': 0.48874309122764836, 'sample': 0.46543864770239113}. Best is trial 57 with value: -0.16629732730464866.\u001b[0m\n",
      "\u001b[32m[I 2023-01-07 00:57:12,839]\u001b[0m Trial 61 finished with value: -0.16626013934702655 and parameters: {'estimators': 3, 'depth': 5, 'alpha': 5.82301587283629, 'lambda': 1.9045915605591792, 'childweight': 0, 'ourgamma': 2.81009217032178, 'ourlearning_rate': 0.12450727591328281, 'colsample_bytree': 0.5163936933779264, 'sample': 0.4719780728508665}. Best is trial 57 with value: -0.16629732730464866.\u001b[0m\n",
      "\u001b[32m[I 2023-01-07 00:57:12,897]\u001b[0m Trial 62 finished with value: -0.1662642222130412 and parameters: {'estimators': 3, 'depth': 5, 'alpha': 5.810255301656418, 'lambda': 1.8913943511978704, 'childweight': 0, 'ourgamma': 3.097179514706651, 'ourlearning_rate': 0.12429021806972826, 'colsample_bytree': 0.45321841310329836, 'sample': 0.464715381914498}. Best is trial 57 with value: -0.16629732730464866.\u001b[0m\n",
      "\u001b[32m[I 2023-01-07 00:57:12,956]\u001b[0m Trial 63 finished with value: -0.16624437399993927 and parameters: {'estimators': 3, 'depth': 5, 'alpha': 5.666791871114099, 'lambda': 1.8632217576098193, 'childweight': 0, 'ourgamma': 3.0993812801116647, 'ourlearning_rate': 0.125539470550467, 'colsample_bytree': 0.4875024527091622, 'sample': 0.49110546768031177}. Best is trial 57 with value: -0.16629732730464866.\u001b[0m\n",
      "\u001b[32m[I 2023-01-07 00:57:13,017]\u001b[0m Trial 64 finished with value: -0.16619217896922556 and parameters: {'estimators': 9, 'depth': 5, 'alpha': 5.714861613061121, 'lambda': 1.8832905688567265, 'childweight': 0, 'ourgamma': 3.1210781089253943, 'ourlearning_rate': 0.12231611032130515, 'colsample_bytree': 0.48206043912721536, 'sample': 0.48913440113342144}. Best is trial 57 with value: -0.16629732730464866.\u001b[0m\n",
      "\u001b[32m[I 2023-01-07 00:57:13,076]\u001b[0m Trial 65 finished with value: -0.1662326118267836 and parameters: {'estimators': 5, 'depth': 5, 'alpha': 5.99843665979906, 'lambda': 1.9024400273799533, 'childweight': 0, 'ourgamma': 3.137026277938145, 'ourlearning_rate': 0.12707408889274724, 'colsample_bytree': 0.4356816700492807, 'sample': 0.49160981791381836}. Best is trial 57 with value: -0.16629732730464866.\u001b[0m\n",
      "\u001b[32m[I 2023-01-07 00:57:13,131]\u001b[0m Trial 66 finished with value: -0.16629732730464866 and parameters: {'estimators': 0, 'depth': 5, 'alpha': 5.935480170351587, 'lambda': 1.8808942770066943, 'childweight': 0, 'ourgamma': 3.7780550514354214, 'ourlearning_rate': 0.16475237827716652, 'colsample_bytree': 0.43302180378216054, 'sample': 0.5461206729992321}. Best is trial 57 with value: -0.16629732730464866.\u001b[0m\n",
      "\u001b[32m[I 2023-01-07 00:57:13,219]\u001b[0m Trial 67 finished with value: -0.16594703000974778 and parameters: {'estimators': 52, 'depth': 5, 'alpha': 5.8577729062505925, 'lambda': 1.8916475001001452, 'childweight': 0, 'ourgamma': 3.7504288830208137, 'ourlearning_rate': 0.15563693331739464, 'colsample_bytree': 0.4361590270526243, 'sample': 0.5561136200875518}. Best is trial 57 with value: -0.16629732730464866.\u001b[0m\n",
      "\u001b[32m[I 2023-01-07 00:57:13,476]\u001b[0m Trial 68 finished with value: -0.16590359001190788 and parameters: {'estimators': 60, 'depth': 5, 'alpha': 5.405231435307086, 'lambda': 1.7601153347734926, 'childweight': 0, 'ourgamma': 3.530790932474574, 'ourlearning_rate': 0.16721290241957323, 'colsample_bytree': 0.4395303137926678, 'sample': 0.5320863651359421}. Best is trial 57 with value: -0.16629732730464866.\u001b[0m\n",
      "\u001b[32m[I 2023-01-07 00:57:13,662]\u001b[0m Trial 69 finished with value: -0.16607688556994976 and parameters: {'estimators': 31, 'depth': 5, 'alpha': 5.953545081999875, 'lambda': 1.9347266409607113, 'childweight': 0, 'ourgamma': 3.2234185915606703, 'ourlearning_rate': 0.14135282698322701, 'colsample_bytree': 0.516159359721544, 'sample': 0.5004562189710249}. Best is trial 57 with value: -0.16629732730464866.\u001b[0m\n",
      "\u001b[32m[I 2023-01-07 00:57:13,740]\u001b[0m Trial 70 finished with value: -0.16629732730464866 and parameters: {'estimators': 0, 'depth': 5, 'alpha': 5.530217913224034, 'lambda': 1.6633201163316569, 'childweight': 1, 'ourgamma': 3.7147102046886733, 'ourlearning_rate': 0.12593945802870896, 'colsample_bytree': 0.4121589936035582, 'sample': 0.5497014344270555}. Best is trial 57 with value: -0.16629732730464866.\u001b[0m\n",
      "\u001b[32m[I 2023-01-07 00:57:13,826]\u001b[0m Trial 71 finished with value: -0.16618458627690652 and parameters: {'estimators': 4, 'depth': 5, 'alpha': 5.496854137618931, 'lambda': 1.6451500716982603, 'childweight': 0, 'ourgamma': 3.791171945188352, 'ourlearning_rate': 0.12490220773221952, 'colsample_bytree': 0.4109079599765049, 'sample': 0.5604805931874567}. Best is trial 57 with value: -0.16629732730464866.\u001b[0m\n",
      "\u001b[32m[I 2023-01-07 00:57:13,921]\u001b[0m Trial 72 finished with value: -0.1614474765999102 and parameters: {'estimators': 41, 'depth': 5, 'alpha': 5.250900521363338, 'lambda': 1.8414268148683002, 'childweight': 1, 'ourgamma': 3.6378826013099688, 'ourlearning_rate': 0.12623636709773267, 'colsample_bytree': 0.4570191673801618, 'sample': 0.6076808303536625}. Best is trial 57 with value: -0.16629732730464866.\u001b[0m\n",
      "\u001b[32m[I 2023-01-07 00:57:14,033]\u001b[0m Trial 73 finished with value: -0.15950139293240234 and parameters: {'estimators': 72, 'depth': 5, 'alpha': 5.856291111559805, 'lambda': 1.7506079906895882, 'childweight': 0, 'ourgamma': 2.736388036878362, 'ourlearning_rate': 0.16719711465165135, 'colsample_bytree': 0.4247266626863878, 'sample': 0.5262596065329904}. Best is trial 57 with value: -0.16629732730464866.\u001b[0m\n",
      "\u001b[32m[I 2023-01-07 00:57:14,108]\u001b[0m Trial 74 finished with value: -0.16612054365262918 and parameters: {'estimators': 22, 'depth': 5, 'alpha': 5.622171933997283, 'lambda': 1.6718202899326655, 'childweight': 0, 'ourgamma': 3.50128953587445, 'ourlearning_rate': 0.10928576372306785, 'colsample_bytree': 0.54337895085848, 'sample': 0.4537045855410059}. Best is trial 57 with value: -0.16629732730464866.\u001b[0m\n",
      "\u001b[32m[I 2023-01-07 00:57:14,162]\u001b[0m Trial 75 finished with value: -0.16629732730464866 and parameters: {'estimators': 0, 'depth': 5, 'alpha': 5.274815816888222, 'lambda': 1.9797422391021826, 'childweight': 1, 'ourgamma': 3.0703679762127534, 'ourlearning_rate': 0.11763622052718177, 'colsample_bytree': 0.4661421871940507, 'sample': 0.4827708529340726}. Best is trial 57 with value: -0.16629732730464866.\u001b[0m\n",
      "\u001b[32m[I 2023-01-07 00:57:14,264]\u001b[0m Trial 76 finished with value: -0.15123805837641813 and parameters: {'estimators': 55, 'depth': 5, 'alpha': 5.263107956548461, 'lambda': 1.8211234025752019, 'childweight': 1, 'ourgamma': 3.2631603630373376, 'ourlearning_rate': 0.1480063862407207, 'colsample_bytree': 0.48022184915935073, 'sample': 0.7417883757537006}. Best is trial 57 with value: -0.16629732730464866.\u001b[0m\n",
      "\u001b[32m[I 2023-01-07 00:57:14,326]\u001b[0m Trial 77 finished with value: -0.16629732730464866 and parameters: {'estimators': 0, 'depth': 5, 'alpha': 5.793692113538956, 'lambda': 1.9973717278917156, 'childweight': 1, 'ourgamma': 3.0560969079509093, 'ourlearning_rate': 0.11631473739618979, 'colsample_bytree': 0.4617677598966336, 'sample': 0.5474658671974428}. Best is trial 57 with value: -0.16629732730464866.\u001b[0m\n",
      "\u001b[32m[I 2023-01-07 00:57:14,404]\u001b[0m Trial 78 finished with value: -0.15311441066510767 and parameters: {'estimators': 28, 'depth': 5, 'alpha': 4.963114476368689, 'lambda': 1.990336750361495, 'childweight': 1, 'ourgamma': 2.769760925691674, 'ourlearning_rate': 0.11474699582675119, 'colsample_bytree': 0.4616070796643638, 'sample': 0.6291944903462225}. Best is trial 57 with value: -0.16629732730464866.\u001b[0m\n",
      "\u001b[32m[I 2023-01-07 00:57:14,514]\u001b[0m Trial 79 finished with value: -0.1659923716825771 and parameters: {'estimators': 42, 'depth': 5, 'alpha': 5.341452814098745, 'lambda': 1.9411644279803189, 'childweight': 2, 'ourgamma': 3.8545009919570212, 'ourlearning_rate': 0.09183596327576425, 'colsample_bytree': 0.5045902823068723, 'sample': 0.5385105505894013}. Best is trial 57 with value: -0.16629732730464866.\u001b[0m\n",
      "\u001b[32m[I 2023-01-07 00:57:14,603]\u001b[0m Trial 80 finished with value: -0.16606196440324533 and parameters: {'estimators': 19, 'depth': 5, 'alpha': 5.8174743400876325, 'lambda': 1.9958351789435287, 'childweight': 1, 'ourgamma': 3.7128271041363017, 'ourlearning_rate': 0.11817757230029328, 'colsample_bytree': 0.4517183558757223, 'sample': 0.5790337440238572}. Best is trial 57 with value: -0.16629732730464866.\u001b[0m\n",
      "\u001b[32m[I 2023-01-07 00:57:14,669]\u001b[0m Trial 81 finished with value: -0.16629732730464866 and parameters: {'estimators': 0, 'depth': 5, 'alpha': 5.531430658433649, 'lambda': 1.7944903195054516, 'childweight': 1, 'ourgamma': 3.058357298422083, 'ourlearning_rate': 0.13477984836431373, 'colsample_bytree': 0.471638669710673, 'sample': 0.5167310433014395}. Best is trial 57 with value: -0.16629732730464866.\u001b[0m\n",
      "\u001b[32m[I 2023-01-07 00:57:14,886]\u001b[0m Trial 82 finished with value: -0.16271134941272788 and parameters: {'estimators': 70, 'depth': 5, 'alpha': 5.504529991301477, 'lambda': 1.8045691470621998, 'childweight': 1, 'ourgamma': 3.432348013405605, 'ourlearning_rate': 0.18188578970433153, 'colsample_bytree': 0.46857090548347946, 'sample': 0.5491380164237049}. Best is trial 57 with value: -0.16629732730464866.\u001b[0m\n",
      "\u001b[32m[I 2023-01-07 00:57:14,958]\u001b[0m Trial 83 finished with value: -0.16629732730464866 and parameters: {'estimators': 0, 'depth': 5, 'alpha': 5.1536845522409696, 'lambda': 1.9347322638703577, 'childweight': 1, 'ourgamma': 3.0130477739207815, 'ourlearning_rate': 0.13708869209595856, 'colsample_bytree': 0.41167557193078624, 'sample': 0.5151059276587243}. Best is trial 57 with value: -0.16629732730464866.\u001b[0m\n",
      "\u001b[32m[I 2023-01-07 00:57:15,030]\u001b[0m Trial 84 finished with value: -0.16517507982727317 and parameters: {'estimators': 16, 'depth': 5, 'alpha': 5.123206962353172, 'lambda': 1.7641289899052064, 'childweight': 1, 'ourgamma': 3.0092506518476734, 'ourlearning_rate': 0.13689143225033, 'colsample_bytree': 0.4172923122028252, 'sample': 0.5220598448029388}. Best is trial 57 with value: -0.16629732730464866.\u001b[0m\n",
      "\u001b[32m[I 2023-01-07 00:57:15,111]\u001b[0m Trial 85 finished with value: -0.16060928732654098 and parameters: {'estimators': 35, 'depth': 5, 'alpha': 4.905756094685749, 'lambda': 1.936264503877564, 'childweight': 2, 'ourgamma': 3.5944973365998756, 'ourlearning_rate': 0.14483973564439892, 'colsample_bytree': 0.40302363009554687, 'sample': 0.568345759234511}. Best is trial 57 with value: -0.16629732730464866.\u001b[0m\n",
      "\u001b[32m[I 2023-01-07 00:57:15,225]\u001b[0m Trial 86 finished with value: -0.16501994455465044 and parameters: {'estimators': 89, 'depth': 5, 'alpha': 5.37634409142947, 'lambda': 1.8330568230809305, 'childweight': 1, 'ourgamma': 3.0093087533121303, 'ourlearning_rate': 0.10583082077115603, 'colsample_bytree': 0.4297828643385355, 'sample': 0.5103125451008199}. Best is trial 57 with value: -0.16629732730464866.\u001b[0m\n",
      "\u001b[32m[I 2023-01-07 00:57:15,311]\u001b[0m Trial 87 finished with value: -0.1659704235044755 and parameters: {'estimators': 49, 'depth': 5, 'alpha': 5.5561128867636835, 'lambda': 1.717114650045224, 'childweight': 2, 'ourgamma': 2.6459817225813307, 'ourlearning_rate': 0.2270363299073061, 'colsample_bytree': 0.44720386912816523, 'sample': 0.4447253135086486}. Best is trial 57 with value: -0.16629732730464866.\u001b[0m\n",
      "\u001b[32m[I 2023-01-07 00:57:15,377]\u001b[0m Trial 88 finished with value: -0.16050326803494097 and parameters: {'estimators': 15, 'depth': 5, 'alpha': 5.090761063322877, 'lambda': 1.6689919769819659, 'childweight': 1, 'ourgamma': 3.281826852522726, 'ourlearning_rate': 0.134043221799687, 'colsample_bytree': 0.4174482904721483, 'sample': 0.5965563869459322}. Best is trial 57 with value: -0.16629732730464866.\u001b[0m\n",
      "\u001b[32m[I 2023-01-07 00:57:15,455]\u001b[0m Trial 89 finished with value: -0.1659372671043492 and parameters: {'estimators': 31, 'depth': 5, 'alpha': 5.2184957754559145, 'lambda': 1.79661284348406, 'childweight': 1, 'ourgamma': 3.4276814366173776, 'ourlearning_rate': 0.16153420608463848, 'colsample_bytree': 0.501383894348234, 'sample': 0.5444437953305858}. Best is trial 57 with value: -0.16629732730464866.\u001b[0m\n",
      "\u001b[32m[I 2023-01-07 00:57:15,558]\u001b[0m Trial 90 finished with value: -0.1657935368421739 and parameters: {'estimators': 65, 'depth': 5, 'alpha': 4.905850091071901, 'lambda': 1.9575321292307872, 'childweight': 1, 'ourgamma': 3.9031394158565913, 'ourlearning_rate': 0.17628016379069997, 'colsample_bytree': 0.4670513053733192, 'sample': 0.5087964324954444}. Best is trial 57 with value: -0.16629732730464866.\u001b[0m\n",
      "\u001b[32m[I 2023-01-07 00:57:15,614]\u001b[0m Trial 91 finished with value: -0.16626026985890202 and parameters: {'estimators': 2, 'depth': 5, 'alpha': 5.796912597390522, 'lambda': 1.9200855605582912, 'childweight': 1, 'ourgamma': 2.794600825216013, 'ourlearning_rate': 0.11801309862731553, 'colsample_bytree': 0.5846515006605705, 'sample': 0.4790432975724435}. Best is trial 57 with value: -0.16629732730464866.\u001b[0m\n",
      "\u001b[32m[I 2023-01-07 00:57:15,725]\u001b[0m Trial 92 finished with value: -0.16629732730464866 and parameters: {'estimators': 0, 'depth': 5, 'alpha': 5.738034634043494, 'lambda': 1.999656014413503, 'childweight': 1, 'ourgamma': 2.4764242799852814, 'ourlearning_rate': 0.110052237780232, 'colsample_bytree': 0.5689325771041555, 'sample': 0.4802843274638411}. Best is trial 57 with value: -0.16629732730464866.\u001b[0m\n",
      "\u001b[32m[I 2023-01-07 00:57:15,784]\u001b[0m Trial 93 finished with value: -0.16629732730464866 and parameters: {'estimators': 0, 'depth': 5, 'alpha': 5.443705923362477, 'lambda': 1.8514099050081556, 'childweight': 1, 'ourgamma': 3.1618478505285323, 'ourlearning_rate': 0.09581942436436519, 'colsample_bytree': 0.6252808812863682, 'sample': 0.5198036820076286}. Best is trial 57 with value: -0.16629732730464866.\u001b[0m\n",
      "\u001b[32m[I 2023-01-07 00:57:15,862]\u001b[0m Trial 94 finished with value: -0.16604273436468087 and parameters: {'estimators': 25, 'depth': 5, 'alpha': 5.46108967319851, 'lambda': 1.9934472691670133, 'childweight': 1, 'ourgamma': 3.1846121321619756, 'ourlearning_rate': 0.09817584686075014, 'colsample_bytree': 0.6397994470875158, 'sample': 0.5346041390705063}. Best is trial 57 with value: -0.16629732730464866.\u001b[0m\n",
      "\u001b[32m[I 2023-01-07 00:57:15,932]\u001b[0m Trial 95 finished with value: -0.16221729159750894 and parameters: {'estimators': 15, 'depth': 5, 'alpha': 5.633256138122727, 'lambda': 1.848098164476436, 'childweight': 1, 'ourgamma': 2.4268026378931924, 'ourlearning_rate': 0.08788415923359595, 'colsample_bytree': 0.5788568776445036, 'sample': 0.5213272357549483}. Best is trial 57 with value: -0.16629732730464866.\u001b[0m\n",
      "\u001b[32m[I 2023-01-07 00:57:16,016]\u001b[0m Trial 96 finished with value: -0.15529103480691164 and parameters: {'estimators': 43, 'depth': 5, 'alpha': 5.16894218474685, 'lambda': 1.6179656766613864, 'childweight': 2, 'ourgamma': 2.634825550297412, 'ourlearning_rate': 0.10970926927253173, 'colsample_bytree': 0.5497878013420561, 'sample': 0.5629294170372012}. Best is trial 57 with value: -0.16629732730464866.\u001b[0m\n",
      "\u001b[32m[I 2023-01-07 00:57:16,139]\u001b[0m Trial 97 finished with value: -0.16506978944345893 and parameters: {'estimators': 83, 'depth': 5, 'alpha': 5.340523000277686, 'lambda': 1.7765350231334878, 'childweight': 1, 'ourgamma': 3.0361140123768613, 'ourlearning_rate': 0.09379805430561429, 'colsample_bytree': 0.6006830486987875, 'sample': 0.4996767949968052}. Best is trial 57 with value: -0.16629732730464866.\u001b[0m\n",
      "\u001b[32m[I 2023-01-07 00:57:16,196]\u001b[0m Trial 98 finished with value: -0.16629732730464866 and parameters: {'estimators': 0, 'depth': 5, 'alpha': 5.538431089648024, 'lambda': 1.4878850127884204, 'childweight': 1, 'ourgamma': 2.4759037366607135, 'ourlearning_rate': 0.20777707501789172, 'colsample_bytree': 0.5305839987105229, 'sample': 0.5739452047616765}. Best is trial 57 with value: -0.16629732730464866.\u001b[0m\n",
      "\u001b[32m[I 2023-01-07 00:57:16,269]\u001b[0m Trial 99 finished with value: -0.1481427217735699 and parameters: {'estimators': 30, 'depth': 5, 'alpha': 5.934472467234899, 'lambda': 1.467987996625046, 'childweight': 2, 'ourgamma': 2.0621407560649083, 'ourlearning_rate': 0.20614300676967606, 'colsample_bytree': 0.5592136806202928, 'sample': 0.5782627514948684}. Best is trial 57 with value: -0.16629732730464866.\u001b[0m\n"
     ]
    }
   ],
   "source": [
    "studyObject1 = optuna.create_study(\n",
    "    direction='minimize', sampler=TPESampler()) # Bayesian Sampling Technique\n",
    "studyObject1.optimize(objective, n_trials= 100)"
   ]
  },
  {
   "cell_type": "code",
   "execution_count": 20,
   "metadata": {},
   "outputs": [
    {
     "data": {
      "application/vnd.plotly.v1+json": {
       "config": {
        "plotlyServerURL": "https://plot.ly"
       },
       "data": [
        {
         "marker": {
          "color": [
           0,
           1,
           2,
           3,
           4,
           5,
           6,
           7,
           8,
           9,
           10,
           11,
           12,
           13,
           14,
           15,
           16,
           17,
           18,
           19,
           20,
           21,
           22,
           23,
           24,
           25,
           26,
           27,
           28,
           29,
           30,
           31,
           32,
           33,
           34,
           35,
           36,
           37,
           38,
           39,
           40,
           41,
           42,
           43,
           44,
           45,
           46,
           47,
           48,
           49,
           50,
           51,
           52,
           53,
           54,
           55,
           56,
           57,
           58,
           59,
           60,
           61,
           62,
           63,
           64,
           65,
           66,
           67,
           68,
           69,
           70,
           71,
           72,
           73,
           74,
           75,
           76,
           77,
           78,
           79,
           80,
           81,
           82,
           83,
           84,
           85,
           86,
           87,
           88,
           89,
           90,
           91,
           92,
           93,
           94,
           95,
           96,
           97,
           98,
           99
          ],
          "colorbar": {
           "title": {
            "text": "#Trials"
           },
           "x": 1,
           "xpad": 40
          },
          "colorscale": [
           [
            0,
            "rgb(247,251,255)"
           ],
           [
            0.125,
            "rgb(222,235,247)"
           ],
           [
            0.25,
            "rgb(198,219,239)"
           ],
           [
            0.375,
            "rgb(158,202,225)"
           ],
           [
            0.5,
            "rgb(107,174,214)"
           ],
           [
            0.625,
            "rgb(66,146,198)"
           ],
           [
            0.75,
            "rgb(33,113,181)"
           ],
           [
            0.875,
            "rgb(8,81,156)"
           ],
           [
            1,
            "rgb(8,48,107)"
           ]
          ],
          "line": {
           "color": "Grey",
           "width": 0.5
          },
          "showscale": true
         },
         "mode": "markers",
         "showlegend": false,
         "type": "scatter",
         "x": [
          4.050725738312592,
          3.250589223978798,
          3.165259695699106,
          5.381143370169104,
          3.3913616807056033,
          3.134203169272798,
          5.750566764137972,
          5.613073857617488,
          2.5237705065455893,
          0.5563526943752899,
          1.4884789926461819,
          1.0360554415134633,
          1.0309069756381968,
          1.7217624055209861,
          0.029132201946798997,
          1.7118544141620124,
          1.6078171464394784,
          2.3107997807187415,
          0.6662042087073023,
          1.3352200991941934,
          2.250702662931774,
          1.0106404390410921,
          0.10829804009623145,
          1.0482759700238238,
          0.6349757980248256,
          2.026753372559007,
          4.396167166241874,
          4.768984784716605,
          4.945831669852143,
          4.377576306396176,
          4.307166895974868,
          4.279355346888161,
          4.155495572104664,
          4.534694305067111,
          3.695363021084423,
          4.7367748356895705,
          5.0840010389404915,
          3.779463788750621,
          5.426689145335998,
          5.994138809936387,
          5.057885237780189,
          3.8379478468922783,
          5.214335831472555,
          4.502088060056431,
          4.493742724061274,
          2.956662588750177,
          4.391045259338774,
          3.4498894839683145,
          4.004283368700923,
          3.976660794193705,
          2.8369717965150185,
          3.994495406622024,
          3.444036477307876,
          4.485181373626803,
          4.536942745753429,
          4.702223432999426,
          4.752993571952972,
          4.719067643312643,
          5.574923963411668,
          5.607966449798706,
          5.688079570068181,
          5.82301587283629,
          5.810255301656418,
          5.666791871114099,
          5.714861613061121,
          5.99843665979906,
          5.935480170351587,
          5.8577729062505925,
          5.405231435307086,
          5.953545081999875,
          5.530217913224034,
          5.496854137618931,
          5.250900521363338,
          5.856291111559805,
          5.622171933997283,
          5.274815816888222,
          5.263107956548461,
          5.793692113538956,
          4.963114476368689,
          5.341452814098745,
          5.8174743400876325,
          5.531430658433649,
          5.504529991301477,
          5.1536845522409696,
          5.123206962353172,
          4.905756094685749,
          5.37634409142947,
          5.5561128867636835,
          5.090761063322877,
          5.2184957754559145,
          4.905850091071901,
          5.796912597390522,
          5.738034634043494,
          5.443705923362477,
          5.46108967319851,
          5.633256138122727,
          5.16894218474685,
          5.340523000277686,
          5.538431089648024,
          5.934472467234899
         ],
         "xaxis": "x",
         "y": [
          -0.10112562793001874,
          -0.09964130568041424,
          -0.09875378003469146,
          -0.13865209704433568,
          -0.12460071216480907,
          -0.14397003543356823,
          -0.14902978237141423,
          -0.13767679332508814,
          -0.1441573023909029,
          -0.12180567449852484,
          -0.15287205016273966,
          -0.15013991518487912,
          -0.1507410763792572,
          -0.14631166252924066,
          -0.14733583051456428,
          -0.10754446052897164,
          -0.14396756413129652,
          -0.12128419525731951,
          -0.13836530709855904,
          -0.14954288486594752,
          -0.14407454397215314,
          -0.148543953421157,
          -0.14479714647567998,
          -0.14915652351135958,
          -0.14380279167652532,
          -0.1385646219007965,
          -0.16455607486120705,
          -0.1606226371900924,
          -0.14668711553263214,
          -0.16316681409520814,
          -0.15953979226868836,
          -0.16245150848204712,
          -0.1597428151285347,
          -0.15470736762203507,
          -0.14744926087694543,
          -0.15967314981073585,
          -0.16066637501125686,
          -0.14230693804892267,
          -0.1419597273735957,
          -0.14671500606869312,
          -0.11885343806787926,
          -0.15940085233693124,
          -0.15649013968680917,
          -0.16240428562140158,
          -0.1630740166896425,
          -0.15643955059498565,
          -0.16585369600389394,
          -0.15914533939726705,
          -0.16576779873508937,
          -0.1628447334008786,
          -0.13949694464888257,
          -0.16286406741553372,
          -0.16050867086790863,
          -0.16579289865131042,
          -0.1658432518446587,
          -0.1660908452849307,
          -0.16598368437944183,
          -0.16629732730464866,
          -0.16619684416217578,
          -0.16629732730464866,
          -0.16615188704943307,
          -0.16626013934702655,
          -0.1662642222130412,
          -0.16624437399993927,
          -0.16619217896922556,
          -0.1662326118267836,
          -0.16629732730464866,
          -0.16594703000974778,
          -0.16590359001190788,
          -0.16607688556994976,
          -0.16629732730464866,
          -0.16618458627690652,
          -0.1614474765999102,
          -0.15950139293240234,
          -0.16612054365262918,
          -0.16629732730464866,
          -0.15123805837641813,
          -0.16629732730464866,
          -0.15311441066510767,
          -0.1659923716825771,
          -0.16606196440324533,
          -0.16629732730464866,
          -0.16271134941272788,
          -0.16629732730464866,
          -0.16517507982727317,
          -0.16060928732654098,
          -0.16501994455465044,
          -0.1659704235044755,
          -0.16050326803494097,
          -0.1659372671043492,
          -0.1657935368421739,
          -0.16626026985890202,
          -0.16629732730464866,
          -0.16629732730464866,
          -0.16604273436468087,
          -0.16221729159750894,
          -0.15529103480691164,
          -0.16506978944345893,
          -0.16629732730464866,
          -0.1481427217735699
         ],
         "yaxis": "y"
        },
        {
         "marker": {
          "color": [
           0,
           1,
           2,
           3,
           4,
           5,
           6,
           7,
           8,
           9,
           10,
           11,
           12,
           13,
           14,
           15,
           16,
           17,
           18,
           19,
           20,
           21,
           22,
           23,
           24,
           25,
           26,
           27,
           28,
           29,
           30,
           31,
           32,
           33,
           34,
           35,
           36,
           37,
           38,
           39,
           40,
           41,
           42,
           43,
           44,
           45,
           46,
           47,
           48,
           49,
           50,
           51,
           52,
           53,
           54,
           55,
           56,
           57,
           58,
           59,
           60,
           61,
           62,
           63,
           64,
           65,
           66,
           67,
           68,
           69,
           70,
           71,
           72,
           73,
           74,
           75,
           76,
           77,
           78,
           79,
           80,
           81,
           82,
           83,
           84,
           85,
           86,
           87,
           88,
           89,
           90,
           91,
           92,
           93,
           94,
           95,
           96,
           97,
           98,
           99
          ],
          "colorbar": {
           "title": {
            "text": "#Trials"
           },
           "x": 1,
           "xpad": 40
          },
          "colorscale": [
           [
            0,
            "rgb(247,251,255)"
           ],
           [
            0.125,
            "rgb(222,235,247)"
           ],
           [
            0.25,
            "rgb(198,219,239)"
           ],
           [
            0.375,
            "rgb(158,202,225)"
           ],
           [
            0.5,
            "rgb(107,174,214)"
           ],
           [
            0.625,
            "rgb(66,146,198)"
           ],
           [
            0.75,
            "rgb(33,113,181)"
           ],
           [
            0.875,
            "rgb(8,81,156)"
           ],
           [
            1,
            "rgb(8,48,107)"
           ]
          ],
          "line": {
           "color": "Grey",
           "width": 0.5
          },
          "showscale": false
         },
         "mode": "markers",
         "showlegend": false,
         "type": "scatter",
         "x": [
          3,
          4,
          4,
          0,
          4,
          3,
          2,
          1,
          0,
          0,
          2,
          2,
          2,
          1,
          2,
          5,
          1,
          3,
          2,
          1,
          3,
          2,
          2,
          1,
          2,
          3,
          2,
          1,
          1,
          0,
          0,
          0,
          0,
          0,
          0,
          1,
          0,
          5,
          0,
          4,
          0,
          1,
          0,
          0,
          0,
          0,
          0,
          4,
          1,
          1,
          1,
          1,
          1,
          0,
          0,
          0,
          0,
          0,
          0,
          0,
          0,
          0,
          0,
          0,
          0,
          0,
          0,
          0,
          0,
          0,
          1,
          0,
          1,
          0,
          0,
          1,
          1,
          1,
          1,
          2,
          1,
          1,
          1,
          1,
          1,
          2,
          1,
          2,
          1,
          1,
          1,
          1,
          1,
          1,
          1,
          1,
          2,
          1,
          1,
          2
         ],
         "xaxis": "x2",
         "y": [
          -0.10112562793001874,
          -0.09964130568041424,
          -0.09875378003469146,
          -0.13865209704433568,
          -0.12460071216480907,
          -0.14397003543356823,
          -0.14902978237141423,
          -0.13767679332508814,
          -0.1441573023909029,
          -0.12180567449852484,
          -0.15287205016273966,
          -0.15013991518487912,
          -0.1507410763792572,
          -0.14631166252924066,
          -0.14733583051456428,
          -0.10754446052897164,
          -0.14396756413129652,
          -0.12128419525731951,
          -0.13836530709855904,
          -0.14954288486594752,
          -0.14407454397215314,
          -0.148543953421157,
          -0.14479714647567998,
          -0.14915652351135958,
          -0.14380279167652532,
          -0.1385646219007965,
          -0.16455607486120705,
          -0.1606226371900924,
          -0.14668711553263214,
          -0.16316681409520814,
          -0.15953979226868836,
          -0.16245150848204712,
          -0.1597428151285347,
          -0.15470736762203507,
          -0.14744926087694543,
          -0.15967314981073585,
          -0.16066637501125686,
          -0.14230693804892267,
          -0.1419597273735957,
          -0.14671500606869312,
          -0.11885343806787926,
          -0.15940085233693124,
          -0.15649013968680917,
          -0.16240428562140158,
          -0.1630740166896425,
          -0.15643955059498565,
          -0.16585369600389394,
          -0.15914533939726705,
          -0.16576779873508937,
          -0.1628447334008786,
          -0.13949694464888257,
          -0.16286406741553372,
          -0.16050867086790863,
          -0.16579289865131042,
          -0.1658432518446587,
          -0.1660908452849307,
          -0.16598368437944183,
          -0.16629732730464866,
          -0.16619684416217578,
          -0.16629732730464866,
          -0.16615188704943307,
          -0.16626013934702655,
          -0.1662642222130412,
          -0.16624437399993927,
          -0.16619217896922556,
          -0.1662326118267836,
          -0.16629732730464866,
          -0.16594703000974778,
          -0.16590359001190788,
          -0.16607688556994976,
          -0.16629732730464866,
          -0.16618458627690652,
          -0.1614474765999102,
          -0.15950139293240234,
          -0.16612054365262918,
          -0.16629732730464866,
          -0.15123805837641813,
          -0.16629732730464866,
          -0.15311441066510767,
          -0.1659923716825771,
          -0.16606196440324533,
          -0.16629732730464866,
          -0.16271134941272788,
          -0.16629732730464866,
          -0.16517507982727317,
          -0.16060928732654098,
          -0.16501994455465044,
          -0.1659704235044755,
          -0.16050326803494097,
          -0.1659372671043492,
          -0.1657935368421739,
          -0.16626026985890202,
          -0.16629732730464866,
          -0.16629732730464866,
          -0.16604273436468087,
          -0.16221729159750894,
          -0.15529103480691164,
          -0.16506978944345893,
          -0.16629732730464866,
          -0.1481427217735699
         ],
         "yaxis": "y2"
        },
        {
         "marker": {
          "color": [
           0,
           1,
           2,
           3,
           4,
           5,
           6,
           7,
           8,
           9,
           10,
           11,
           12,
           13,
           14,
           15,
           16,
           17,
           18,
           19,
           20,
           21,
           22,
           23,
           24,
           25,
           26,
           27,
           28,
           29,
           30,
           31,
           32,
           33,
           34,
           35,
           36,
           37,
           38,
           39,
           40,
           41,
           42,
           43,
           44,
           45,
           46,
           47,
           48,
           49,
           50,
           51,
           52,
           53,
           54,
           55,
           56,
           57,
           58,
           59,
           60,
           61,
           62,
           63,
           64,
           65,
           66,
           67,
           68,
           69,
           70,
           71,
           72,
           73,
           74,
           75,
           76,
           77,
           78,
           79,
           80,
           81,
           82,
           83,
           84,
           85,
           86,
           87,
           88,
           89,
           90,
           91,
           92,
           93,
           94,
           95,
           96,
           97,
           98,
           99
          ],
          "colorbar": {
           "title": {
            "text": "#Trials"
           },
           "x": 1,
           "xpad": 40
          },
          "colorscale": [
           [
            0,
            "rgb(247,251,255)"
           ],
           [
            0.125,
            "rgb(222,235,247)"
           ],
           [
            0.25,
            "rgb(198,219,239)"
           ],
           [
            0.375,
            "rgb(158,202,225)"
           ],
           [
            0.5,
            "rgb(107,174,214)"
           ],
           [
            0.625,
            "rgb(66,146,198)"
           ],
           [
            0.75,
            "rgb(33,113,181)"
           ],
           [
            0.875,
            "rgb(8,81,156)"
           ],
           [
            1,
            "rgb(8,48,107)"
           ]
          ],
          "line": {
           "color": "Grey",
           "width": 0.5
          },
          "showscale": false
         },
         "mode": "markers",
         "showlegend": false,
         "type": "scatter",
         "x": [
          0.8471007724816808,
          0.4476423967193198,
          0.5415801374511995,
          0.8272227548432489,
          0.5087109120460624,
          0.7621107147694066,
          0.4652947848139224,
          0.5631948236497759,
          0.5279058374516359,
          0.7872371649722849,
          0.6613379816937184,
          0.6641610387647099,
          0.677676387999779,
          0.6672388810666933,
          0.7259251462785992,
          0.607539105461737,
          0.7077154083644167,
          0.6151385900472999,
          0.6250854903566551,
          0.7143834864105347,
          0.772480281216122,
          0.6793518797745597,
          0.5822531977354334,
          0.6509470591922917,
          0.4009747606917199,
          0.8990183760229885,
          0.6868775545853822,
          0.7446663358090495,
          0.7432148356701483,
          0.8049992102782093,
          0.8153863400128722,
          0.8242146619981437,
          0.8707653451356991,
          0.8025085166727677,
          0.8450797824480708,
          0.8426997441375672,
          0.7560898202677206,
          0.8789929521772912,
          0.7907947783165642,
          0.7661233691463121,
          0.7009771447790104,
          0.7419449864292642,
          0.8198808671581368,
          0.7456317836057088,
          0.7803667724668583,
          0.786185417622273,
          0.8291641885237518,
          0.8651595341938942,
          0.8324598761227109,
          0.8514293321718625,
          0.8355355403445552,
          0.8643003929388463,
          0.8960423278940732,
          0.8038540374304273,
          0.807952141252842,
          0.8064148087853146,
          0.8028920753930047,
          0.8025608696446037,
          0.808979591151368,
          0.7683852311742856,
          0.48874309122764836,
          0.5163936933779264,
          0.45321841310329836,
          0.4875024527091622,
          0.48206043912721536,
          0.4356816700492807,
          0.43302180378216054,
          0.4361590270526243,
          0.4395303137926678,
          0.516159359721544,
          0.4121589936035582,
          0.4109079599765049,
          0.4570191673801618,
          0.4247266626863878,
          0.54337895085848,
          0.4661421871940507,
          0.48022184915935073,
          0.4617677598966336,
          0.4616070796643638,
          0.5045902823068723,
          0.4517183558757223,
          0.471638669710673,
          0.46857090548347946,
          0.41167557193078624,
          0.4172923122028252,
          0.40302363009554687,
          0.4297828643385355,
          0.44720386912816523,
          0.4174482904721483,
          0.501383894348234,
          0.4670513053733192,
          0.5846515006605705,
          0.5689325771041555,
          0.6252808812863682,
          0.6397994470875158,
          0.5788568776445036,
          0.5497878013420561,
          0.6006830486987875,
          0.5305839987105229,
          0.5592136806202928
         ],
         "xaxis": "x3",
         "y": [
          -0.10112562793001874,
          -0.09964130568041424,
          -0.09875378003469146,
          -0.13865209704433568,
          -0.12460071216480907,
          -0.14397003543356823,
          -0.14902978237141423,
          -0.13767679332508814,
          -0.1441573023909029,
          -0.12180567449852484,
          -0.15287205016273966,
          -0.15013991518487912,
          -0.1507410763792572,
          -0.14631166252924066,
          -0.14733583051456428,
          -0.10754446052897164,
          -0.14396756413129652,
          -0.12128419525731951,
          -0.13836530709855904,
          -0.14954288486594752,
          -0.14407454397215314,
          -0.148543953421157,
          -0.14479714647567998,
          -0.14915652351135958,
          -0.14380279167652532,
          -0.1385646219007965,
          -0.16455607486120705,
          -0.1606226371900924,
          -0.14668711553263214,
          -0.16316681409520814,
          -0.15953979226868836,
          -0.16245150848204712,
          -0.1597428151285347,
          -0.15470736762203507,
          -0.14744926087694543,
          -0.15967314981073585,
          -0.16066637501125686,
          -0.14230693804892267,
          -0.1419597273735957,
          -0.14671500606869312,
          -0.11885343806787926,
          -0.15940085233693124,
          -0.15649013968680917,
          -0.16240428562140158,
          -0.1630740166896425,
          -0.15643955059498565,
          -0.16585369600389394,
          -0.15914533939726705,
          -0.16576779873508937,
          -0.1628447334008786,
          -0.13949694464888257,
          -0.16286406741553372,
          -0.16050867086790863,
          -0.16579289865131042,
          -0.1658432518446587,
          -0.1660908452849307,
          -0.16598368437944183,
          -0.16629732730464866,
          -0.16619684416217578,
          -0.16629732730464866,
          -0.16615188704943307,
          -0.16626013934702655,
          -0.1662642222130412,
          -0.16624437399993927,
          -0.16619217896922556,
          -0.1662326118267836,
          -0.16629732730464866,
          -0.16594703000974778,
          -0.16590359001190788,
          -0.16607688556994976,
          -0.16629732730464866,
          -0.16618458627690652,
          -0.1614474765999102,
          -0.15950139293240234,
          -0.16612054365262918,
          -0.16629732730464866,
          -0.15123805837641813,
          -0.16629732730464866,
          -0.15311441066510767,
          -0.1659923716825771,
          -0.16606196440324533,
          -0.16629732730464866,
          -0.16271134941272788,
          -0.16629732730464866,
          -0.16517507982727317,
          -0.16060928732654098,
          -0.16501994455465044,
          -0.1659704235044755,
          -0.16050326803494097,
          -0.1659372671043492,
          -0.1657935368421739,
          -0.16626026985890202,
          -0.16629732730464866,
          -0.16629732730464866,
          -0.16604273436468087,
          -0.16221729159750894,
          -0.15529103480691164,
          -0.16506978944345893,
          -0.16629732730464866,
          -0.1481427217735699
         ],
         "yaxis": "y3"
        },
        {
         "marker": {
          "color": [
           0,
           1,
           2,
           3,
           4,
           5,
           6,
           7,
           8,
           9,
           10,
           11,
           12,
           13,
           14,
           15,
           16,
           17,
           18,
           19,
           20,
           21,
           22,
           23,
           24,
           25,
           26,
           27,
           28,
           29,
           30,
           31,
           32,
           33,
           34,
           35,
           36,
           37,
           38,
           39,
           40,
           41,
           42,
           43,
           44,
           45,
           46,
           47,
           48,
           49,
           50,
           51,
           52,
           53,
           54,
           55,
           56,
           57,
           58,
           59,
           60,
           61,
           62,
           63,
           64,
           65,
           66,
           67,
           68,
           69,
           70,
           71,
           72,
           73,
           74,
           75,
           76,
           77,
           78,
           79,
           80,
           81,
           82,
           83,
           84,
           85,
           86,
           87,
           88,
           89,
           90,
           91,
           92,
           93,
           94,
           95,
           96,
           97,
           98,
           99
          ],
          "colorbar": {
           "title": {
            "text": "#Trials"
           },
           "x": 1,
           "xpad": 40
          },
          "colorscale": [
           [
            0,
            "rgb(247,251,255)"
           ],
           [
            0.125,
            "rgb(222,235,247)"
           ],
           [
            0.25,
            "rgb(198,219,239)"
           ],
           [
            0.375,
            "rgb(158,202,225)"
           ],
           [
            0.5,
            "rgb(107,174,214)"
           ],
           [
            0.625,
            "rgb(66,146,198)"
           ],
           [
            0.75,
            "rgb(33,113,181)"
           ],
           [
            0.875,
            "rgb(8,81,156)"
           ],
           [
            1,
            "rgb(8,48,107)"
           ]
          ],
          "line": {
           "color": "Grey",
           "width": 0.5
          },
          "showscale": false
         },
         "mode": "markers",
         "showlegend": false,
         "type": "scatter",
         "x": [
          5,
          3,
          3,
          5,
          3,
          3,
          4,
          4,
          5,
          3,
          4,
          4,
          4,
          4,
          4,
          4,
          5,
          4,
          5,
          4,
          4,
          4,
          4,
          4,
          4,
          4,
          3,
          3,
          3,
          3,
          3,
          3,
          3,
          3,
          3,
          3,
          3,
          3,
          3,
          3,
          3,
          3,
          3,
          3,
          3,
          3,
          3,
          3,
          3,
          3,
          3,
          3,
          3,
          3,
          3,
          3,
          3,
          3,
          3,
          5,
          5,
          5,
          5,
          5,
          5,
          5,
          5,
          5,
          5,
          5,
          5,
          5,
          5,
          5,
          5,
          5,
          5,
          5,
          5,
          5,
          5,
          5,
          5,
          5,
          5,
          5,
          5,
          5,
          5,
          5,
          5,
          5,
          5,
          5,
          5,
          5,
          5,
          5,
          5,
          5
         ],
         "xaxis": "x4",
         "y": [
          -0.10112562793001874,
          -0.09964130568041424,
          -0.09875378003469146,
          -0.13865209704433568,
          -0.12460071216480907,
          -0.14397003543356823,
          -0.14902978237141423,
          -0.13767679332508814,
          -0.1441573023909029,
          -0.12180567449852484,
          -0.15287205016273966,
          -0.15013991518487912,
          -0.1507410763792572,
          -0.14631166252924066,
          -0.14733583051456428,
          -0.10754446052897164,
          -0.14396756413129652,
          -0.12128419525731951,
          -0.13836530709855904,
          -0.14954288486594752,
          -0.14407454397215314,
          -0.148543953421157,
          -0.14479714647567998,
          -0.14915652351135958,
          -0.14380279167652532,
          -0.1385646219007965,
          -0.16455607486120705,
          -0.1606226371900924,
          -0.14668711553263214,
          -0.16316681409520814,
          -0.15953979226868836,
          -0.16245150848204712,
          -0.1597428151285347,
          -0.15470736762203507,
          -0.14744926087694543,
          -0.15967314981073585,
          -0.16066637501125686,
          -0.14230693804892267,
          -0.1419597273735957,
          -0.14671500606869312,
          -0.11885343806787926,
          -0.15940085233693124,
          -0.15649013968680917,
          -0.16240428562140158,
          -0.1630740166896425,
          -0.15643955059498565,
          -0.16585369600389394,
          -0.15914533939726705,
          -0.16576779873508937,
          -0.1628447334008786,
          -0.13949694464888257,
          -0.16286406741553372,
          -0.16050867086790863,
          -0.16579289865131042,
          -0.1658432518446587,
          -0.1660908452849307,
          -0.16598368437944183,
          -0.16629732730464866,
          -0.16619684416217578,
          -0.16629732730464866,
          -0.16615188704943307,
          -0.16626013934702655,
          -0.1662642222130412,
          -0.16624437399993927,
          -0.16619217896922556,
          -0.1662326118267836,
          -0.16629732730464866,
          -0.16594703000974778,
          -0.16590359001190788,
          -0.16607688556994976,
          -0.16629732730464866,
          -0.16618458627690652,
          -0.1614474765999102,
          -0.15950139293240234,
          -0.16612054365262918,
          -0.16629732730464866,
          -0.15123805837641813,
          -0.16629732730464866,
          -0.15311441066510767,
          -0.1659923716825771,
          -0.16606196440324533,
          -0.16629732730464866,
          -0.16271134941272788,
          -0.16629732730464866,
          -0.16517507982727317,
          -0.16060928732654098,
          -0.16501994455465044,
          -0.1659704235044755,
          -0.16050326803494097,
          -0.1659372671043492,
          -0.1657935368421739,
          -0.16626026985890202,
          -0.16629732730464866,
          -0.16629732730464866,
          -0.16604273436468087,
          -0.16221729159750894,
          -0.15529103480691164,
          -0.16506978944345893,
          -0.16629732730464866,
          -0.1481427217735699
         ],
         "yaxis": "y4"
        },
        {
         "marker": {
          "color": [
           0,
           1,
           2,
           3,
           4,
           5,
           6,
           7,
           8,
           9,
           10,
           11,
           12,
           13,
           14,
           15,
           16,
           17,
           18,
           19,
           20,
           21,
           22,
           23,
           24,
           25,
           26,
           27,
           28,
           29,
           30,
           31,
           32,
           33,
           34,
           35,
           36,
           37,
           38,
           39,
           40,
           41,
           42,
           43,
           44,
           45,
           46,
           47,
           48,
           49,
           50,
           51,
           52,
           53,
           54,
           55,
           56,
           57,
           58,
           59,
           60,
           61,
           62,
           63,
           64,
           65,
           66,
           67,
           68,
           69,
           70,
           71,
           72,
           73,
           74,
           75,
           76,
           77,
           78,
           79,
           80,
           81,
           82,
           83,
           84,
           85,
           86,
           87,
           88,
           89,
           90,
           91,
           92,
           93,
           94,
           95,
           96,
           97,
           98,
           99
          ],
          "colorbar": {
           "title": {
            "text": "#Trials"
           },
           "x": 1,
           "xpad": 40
          },
          "colorscale": [
           [
            0,
            "rgb(247,251,255)"
           ],
           [
            0.125,
            "rgb(222,235,247)"
           ],
           [
            0.25,
            "rgb(198,219,239)"
           ],
           [
            0.375,
            "rgb(158,202,225)"
           ],
           [
            0.5,
            "rgb(107,174,214)"
           ],
           [
            0.625,
            "rgb(66,146,198)"
           ],
           [
            0.75,
            "rgb(33,113,181)"
           ],
           [
            0.875,
            "rgb(8,81,156)"
           ],
           [
            1,
            "rgb(8,48,107)"
           ]
          ],
          "line": {
           "color": "Grey",
           "width": 0.5
          },
          "showscale": false
         },
         "mode": "markers",
         "showlegend": false,
         "type": "scatter",
         "x": [
          283,
          292,
          211,
          334,
          394,
          45,
          398,
          183,
          272,
          9,
          462,
          464,
          482,
          490,
          411,
          499,
          124,
          350,
          438,
          353,
          441,
          464,
          452,
          494,
          386,
          327,
          429,
          376,
          412,
          370,
          298,
          302,
          256,
          217,
          311,
          354,
          375,
          284,
          237,
          420,
          377,
          372,
          325,
          377,
          176,
          95,
          116,
          179,
          141,
          135,
          71,
          146,
          167,
          149,
          96,
          22,
          36,
          0,
          8,
          0,
          20,
          3,
          3,
          3,
          9,
          5,
          0,
          52,
          60,
          31,
          0,
          4,
          41,
          72,
          22,
          0,
          55,
          0,
          28,
          42,
          19,
          0,
          70,
          0,
          16,
          35,
          89,
          49,
          15,
          31,
          65,
          2,
          0,
          0,
          25,
          15,
          43,
          83,
          0,
          30
         ],
         "xaxis": "x5",
         "y": [
          -0.10112562793001874,
          -0.09964130568041424,
          -0.09875378003469146,
          -0.13865209704433568,
          -0.12460071216480907,
          -0.14397003543356823,
          -0.14902978237141423,
          -0.13767679332508814,
          -0.1441573023909029,
          -0.12180567449852484,
          -0.15287205016273966,
          -0.15013991518487912,
          -0.1507410763792572,
          -0.14631166252924066,
          -0.14733583051456428,
          -0.10754446052897164,
          -0.14396756413129652,
          -0.12128419525731951,
          -0.13836530709855904,
          -0.14954288486594752,
          -0.14407454397215314,
          -0.148543953421157,
          -0.14479714647567998,
          -0.14915652351135958,
          -0.14380279167652532,
          -0.1385646219007965,
          -0.16455607486120705,
          -0.1606226371900924,
          -0.14668711553263214,
          -0.16316681409520814,
          -0.15953979226868836,
          -0.16245150848204712,
          -0.1597428151285347,
          -0.15470736762203507,
          -0.14744926087694543,
          -0.15967314981073585,
          -0.16066637501125686,
          -0.14230693804892267,
          -0.1419597273735957,
          -0.14671500606869312,
          -0.11885343806787926,
          -0.15940085233693124,
          -0.15649013968680917,
          -0.16240428562140158,
          -0.1630740166896425,
          -0.15643955059498565,
          -0.16585369600389394,
          -0.15914533939726705,
          -0.16576779873508937,
          -0.1628447334008786,
          -0.13949694464888257,
          -0.16286406741553372,
          -0.16050867086790863,
          -0.16579289865131042,
          -0.1658432518446587,
          -0.1660908452849307,
          -0.16598368437944183,
          -0.16629732730464866,
          -0.16619684416217578,
          -0.16629732730464866,
          -0.16615188704943307,
          -0.16626013934702655,
          -0.1662642222130412,
          -0.16624437399993927,
          -0.16619217896922556,
          -0.1662326118267836,
          -0.16629732730464866,
          -0.16594703000974778,
          -0.16590359001190788,
          -0.16607688556994976,
          -0.16629732730464866,
          -0.16618458627690652,
          -0.1614474765999102,
          -0.15950139293240234,
          -0.16612054365262918,
          -0.16629732730464866,
          -0.15123805837641813,
          -0.16629732730464866,
          -0.15311441066510767,
          -0.1659923716825771,
          -0.16606196440324533,
          -0.16629732730464866,
          -0.16271134941272788,
          -0.16629732730464866,
          -0.16517507982727317,
          -0.16060928732654098,
          -0.16501994455465044,
          -0.1659704235044755,
          -0.16050326803494097,
          -0.1659372671043492,
          -0.1657935368421739,
          -0.16626026985890202,
          -0.16629732730464866,
          -0.16629732730464866,
          -0.16604273436468087,
          -0.16221729159750894,
          -0.15529103480691164,
          -0.16506978944345893,
          -0.16629732730464866,
          -0.1481427217735699
         ],
         "yaxis": "y5"
        },
        {
         "marker": {
          "color": [
           0,
           1,
           2,
           3,
           4,
           5,
           6,
           7,
           8,
           9,
           10,
           11,
           12,
           13,
           14,
           15,
           16,
           17,
           18,
           19,
           20,
           21,
           22,
           23,
           24,
           25,
           26,
           27,
           28,
           29,
           30,
           31,
           32,
           33,
           34,
           35,
           36,
           37,
           38,
           39,
           40,
           41,
           42,
           43,
           44,
           45,
           46,
           47,
           48,
           49,
           50,
           51,
           52,
           53,
           54,
           55,
           56,
           57,
           58,
           59,
           60,
           61,
           62,
           63,
           64,
           65,
           66,
           67,
           68,
           69,
           70,
           71,
           72,
           73,
           74,
           75,
           76,
           77,
           78,
           79,
           80,
           81,
           82,
           83,
           84,
           85,
           86,
           87,
           88,
           89,
           90,
           91,
           92,
           93,
           94,
           95,
           96,
           97,
           98,
           99
          ],
          "colorbar": {
           "title": {
            "text": "#Trials"
           },
           "x": 1,
           "xpad": 40
          },
          "colorscale": [
           [
            0,
            "rgb(247,251,255)"
           ],
           [
            0.125,
            "rgb(222,235,247)"
           ],
           [
            0.25,
            "rgb(198,219,239)"
           ],
           [
            0.375,
            "rgb(158,202,225)"
           ],
           [
            0.5,
            "rgb(107,174,214)"
           ],
           [
            0.625,
            "rgb(66,146,198)"
           ],
           [
            0.75,
            "rgb(33,113,181)"
           ],
           [
            0.875,
            "rgb(8,81,156)"
           ],
           [
            1,
            "rgb(8,48,107)"
           ]
          ],
          "line": {
           "color": "Grey",
           "width": 0.5
          },
          "showscale": false
         },
         "mode": "markers",
         "showlegend": false,
         "type": "scatter",
         "x": [
          1.2732348335472174,
          1.2742275825853553,
          0.11284028907390731,
          0.3176983503676374,
          1.0787116356503728,
          1.0898471507347562,
          1.240782928786711,
          0.5233053107480854,
          0.4246274974728923,
          0.9941672804905677,
          1.9860766826168526,
          1.9547474755535137,
          1.9704179282396599,
          1.9585707895223508,
          1.678036644356376,
          1.6407349315732418,
          1.6362676775208969,
          0.7815306964709454,
          1.7911485109215484,
          1.403646150457237,
          1.4699072542883846,
          1.9553689758509927,
          1.9984763664667922,
          1.8093463880561416,
          1.8083821830012037,
          1.5010648759659007,
          1.8283841875082902,
          1.771164758481583,
          1.7019702480128243,
          1.53449343660178,
          1.3310316068274877,
          1.299722995205847,
          1.5332987338991941,
          1.1745595570197862,
          0.8525275854870998,
          1.4003260798940615,
          0.03297850524311341,
          0.012916595188012803,
          0.6469543637292152,
          0.34282392761740055,
          0.9671452016206443,
          1.5625838147999236,
          1.1917177824643423,
          1.3150301814814016,
          0.1900056577491377,
          0.20929101080417417,
          1.31661455452861,
          1.1047731694696283,
          1.4173270013171804,
          1.429793741790222,
          1.5680676293970983,
          1.4139483087758715,
          1.2351991616906737,
          1.5926703291317452,
          1.6062175209191814,
          1.7056642768319337,
          1.7271435270468662,
          1.6150605457278278,
          1.8754725987226546,
          1.7193967231345937,
          1.8878415924690224,
          1.9045915605591792,
          1.8913943511978704,
          1.8632217576098193,
          1.8832905688567265,
          1.9024400273799533,
          1.8808942770066943,
          1.8916475001001452,
          1.7601153347734926,
          1.9347266409607113,
          1.6633201163316569,
          1.6451500716982603,
          1.8414268148683002,
          1.7506079906895882,
          1.6718202899326655,
          1.9797422391021826,
          1.8211234025752019,
          1.9973717278917156,
          1.990336750361495,
          1.9411644279803189,
          1.9958351789435287,
          1.7944903195054516,
          1.8045691470621998,
          1.9347322638703577,
          1.7641289899052064,
          1.936264503877564,
          1.8330568230809305,
          1.717114650045224,
          1.6689919769819659,
          1.79661284348406,
          1.9575321292307872,
          1.9200855605582912,
          1.999656014413503,
          1.8514099050081556,
          1.9934472691670133,
          1.848098164476436,
          1.6179656766613864,
          1.7765350231334878,
          1.4878850127884204,
          1.467987996625046
         ],
         "xaxis": "x6",
         "y": [
          -0.10112562793001874,
          -0.09964130568041424,
          -0.09875378003469146,
          -0.13865209704433568,
          -0.12460071216480907,
          -0.14397003543356823,
          -0.14902978237141423,
          -0.13767679332508814,
          -0.1441573023909029,
          -0.12180567449852484,
          -0.15287205016273966,
          -0.15013991518487912,
          -0.1507410763792572,
          -0.14631166252924066,
          -0.14733583051456428,
          -0.10754446052897164,
          -0.14396756413129652,
          -0.12128419525731951,
          -0.13836530709855904,
          -0.14954288486594752,
          -0.14407454397215314,
          -0.148543953421157,
          -0.14479714647567998,
          -0.14915652351135958,
          -0.14380279167652532,
          -0.1385646219007965,
          -0.16455607486120705,
          -0.1606226371900924,
          -0.14668711553263214,
          -0.16316681409520814,
          -0.15953979226868836,
          -0.16245150848204712,
          -0.1597428151285347,
          -0.15470736762203507,
          -0.14744926087694543,
          -0.15967314981073585,
          -0.16066637501125686,
          -0.14230693804892267,
          -0.1419597273735957,
          -0.14671500606869312,
          -0.11885343806787926,
          -0.15940085233693124,
          -0.15649013968680917,
          -0.16240428562140158,
          -0.1630740166896425,
          -0.15643955059498565,
          -0.16585369600389394,
          -0.15914533939726705,
          -0.16576779873508937,
          -0.1628447334008786,
          -0.13949694464888257,
          -0.16286406741553372,
          -0.16050867086790863,
          -0.16579289865131042,
          -0.1658432518446587,
          -0.1660908452849307,
          -0.16598368437944183,
          -0.16629732730464866,
          -0.16619684416217578,
          -0.16629732730464866,
          -0.16615188704943307,
          -0.16626013934702655,
          -0.1662642222130412,
          -0.16624437399993927,
          -0.16619217896922556,
          -0.1662326118267836,
          -0.16629732730464866,
          -0.16594703000974778,
          -0.16590359001190788,
          -0.16607688556994976,
          -0.16629732730464866,
          -0.16618458627690652,
          -0.1614474765999102,
          -0.15950139293240234,
          -0.16612054365262918,
          -0.16629732730464866,
          -0.15123805837641813,
          -0.16629732730464866,
          -0.15311441066510767,
          -0.1659923716825771,
          -0.16606196440324533,
          -0.16629732730464866,
          -0.16271134941272788,
          -0.16629732730464866,
          -0.16517507982727317,
          -0.16060928732654098,
          -0.16501994455465044,
          -0.1659704235044755,
          -0.16050326803494097,
          -0.1659372671043492,
          -0.1657935368421739,
          -0.16626026985890202,
          -0.16629732730464866,
          -0.16629732730464866,
          -0.16604273436468087,
          -0.16221729159750894,
          -0.15529103480691164,
          -0.16506978944345893,
          -0.16629732730464866,
          -0.1481427217735699
         ],
         "yaxis": "y6"
        },
        {
         "marker": {
          "color": [
           0,
           1,
           2,
           3,
           4,
           5,
           6,
           7,
           8,
           9,
           10,
           11,
           12,
           13,
           14,
           15,
           16,
           17,
           18,
           19,
           20,
           21,
           22,
           23,
           24,
           25,
           26,
           27,
           28,
           29,
           30,
           31,
           32,
           33,
           34,
           35,
           36,
           37,
           38,
           39,
           40,
           41,
           42,
           43,
           44,
           45,
           46,
           47,
           48,
           49,
           50,
           51,
           52,
           53,
           54,
           55,
           56,
           57,
           58,
           59,
           60,
           61,
           62,
           63,
           64,
           65,
           66,
           67,
           68,
           69,
           70,
           71,
           72,
           73,
           74,
           75,
           76,
           77,
           78,
           79,
           80,
           81,
           82,
           83,
           84,
           85,
           86,
           87,
           88,
           89,
           90,
           91,
           92,
           93,
           94,
           95,
           96,
           97,
           98,
           99
          ],
          "colorbar": {
           "title": {
            "text": "#Trials"
           },
           "x": 1,
           "xpad": 40
          },
          "colorscale": [
           [
            0,
            "rgb(247,251,255)"
           ],
           [
            0.125,
            "rgb(222,235,247)"
           ],
           [
            0.25,
            "rgb(198,219,239)"
           ],
           [
            0.375,
            "rgb(158,202,225)"
           ],
           [
            0.5,
            "rgb(107,174,214)"
           ],
           [
            0.625,
            "rgb(66,146,198)"
           ],
           [
            0.75,
            "rgb(33,113,181)"
           ],
           [
            0.875,
            "rgb(8,81,156)"
           ],
           [
            1,
            "rgb(8,48,107)"
           ]
          ],
          "line": {
           "color": "Grey",
           "width": 0.5
          },
          "showscale": false
         },
         "mode": "markers",
         "showlegend": false,
         "type": "scatter",
         "x": [
          0.3033992792570661,
          0.8439325199598637,
          0.3071439485960088,
          3.1084797138667186,
          2.5040105132670574,
          2.030551426622894,
          2.9025710327136585,
          2.1443585058358323,
          3.620474770530277,
          0.02883319196398082,
          3.936410942392574,
          3.860771643548938,
          3.831441055629769,
          3.3699321674256355,
          3.9189651981774514,
          1.348939021273139,
          2.7887794843575646,
          1.5462415804293852,
          3.394647869867807,
          3.989279891084803,
          2.6121291661703183,
          3.6403676234761853,
          3.2415326592892453,
          3.9681991088268456,
          3.6726939601226776,
          3.002536079964969,
          3.482357588003182,
          2.32882507424414,
          1.5468377509054778,
          2.4013293162774696,
          2.175164304277654,
          2.3023656442824705,
          2.3991044697677935,
          1.7348784124134062,
          1.7912109767357367,
          2.373158496343067,
          2.6991289668938556,
          2.6989222431958133,
          1.1039003218996966,
          3.0802538658969425,
          0.6479148966826023,
          2.2606525852719628,
          1.9492100246127104,
          2.541707799933564,
          2.586469976570947,
          2.546630548807084,
          2.8698076558083527,
          2.8865942638288846,
          3.3384050641304657,
          3.3517519400618583,
          3.2068538119935965,
          3.337529911590614,
          3.5133775474470776,
          2.9040708684943235,
          2.948879654083217,
          2.912274181446726,
          2.9410886963758207,
          2.868833959925093,
          2.928239935812426,
          3.123849921215936,
          3.120098548466882,
          2.81009217032178,
          3.097179514706651,
          3.0993812801116647,
          3.1210781089253943,
          3.137026277938145,
          3.7780550514354214,
          3.7504288830208137,
          3.530790932474574,
          3.2234185915606703,
          3.7147102046886733,
          3.791171945188352,
          3.6378826013099688,
          2.736388036878362,
          3.50128953587445,
          3.0703679762127534,
          3.2631603630373376,
          3.0560969079509093,
          2.769760925691674,
          3.8545009919570212,
          3.7128271041363017,
          3.058357298422083,
          3.432348013405605,
          3.0130477739207815,
          3.0092506518476734,
          3.5944973365998756,
          3.0093087533121303,
          2.6459817225813307,
          3.281826852522726,
          3.4276814366173776,
          3.9031394158565913,
          2.794600825216013,
          2.4764242799852814,
          3.1618478505285323,
          3.1846121321619756,
          2.4268026378931924,
          2.634825550297412,
          3.0361140123768613,
          2.4759037366607135,
          2.0621407560649083
         ],
         "xaxis": "x7",
         "y": [
          -0.10112562793001874,
          -0.09964130568041424,
          -0.09875378003469146,
          -0.13865209704433568,
          -0.12460071216480907,
          -0.14397003543356823,
          -0.14902978237141423,
          -0.13767679332508814,
          -0.1441573023909029,
          -0.12180567449852484,
          -0.15287205016273966,
          -0.15013991518487912,
          -0.1507410763792572,
          -0.14631166252924066,
          -0.14733583051456428,
          -0.10754446052897164,
          -0.14396756413129652,
          -0.12128419525731951,
          -0.13836530709855904,
          -0.14954288486594752,
          -0.14407454397215314,
          -0.148543953421157,
          -0.14479714647567998,
          -0.14915652351135958,
          -0.14380279167652532,
          -0.1385646219007965,
          -0.16455607486120705,
          -0.1606226371900924,
          -0.14668711553263214,
          -0.16316681409520814,
          -0.15953979226868836,
          -0.16245150848204712,
          -0.1597428151285347,
          -0.15470736762203507,
          -0.14744926087694543,
          -0.15967314981073585,
          -0.16066637501125686,
          -0.14230693804892267,
          -0.1419597273735957,
          -0.14671500606869312,
          -0.11885343806787926,
          -0.15940085233693124,
          -0.15649013968680917,
          -0.16240428562140158,
          -0.1630740166896425,
          -0.15643955059498565,
          -0.16585369600389394,
          -0.15914533939726705,
          -0.16576779873508937,
          -0.1628447334008786,
          -0.13949694464888257,
          -0.16286406741553372,
          -0.16050867086790863,
          -0.16579289865131042,
          -0.1658432518446587,
          -0.1660908452849307,
          -0.16598368437944183,
          -0.16629732730464866,
          -0.16619684416217578,
          -0.16629732730464866,
          -0.16615188704943307,
          -0.16626013934702655,
          -0.1662642222130412,
          -0.16624437399993927,
          -0.16619217896922556,
          -0.1662326118267836,
          -0.16629732730464866,
          -0.16594703000974778,
          -0.16590359001190788,
          -0.16607688556994976,
          -0.16629732730464866,
          -0.16618458627690652,
          -0.1614474765999102,
          -0.15950139293240234,
          -0.16612054365262918,
          -0.16629732730464866,
          -0.15123805837641813,
          -0.16629732730464866,
          -0.15311441066510767,
          -0.1659923716825771,
          -0.16606196440324533,
          -0.16629732730464866,
          -0.16271134941272788,
          -0.16629732730464866,
          -0.16517507982727317,
          -0.16060928732654098,
          -0.16501994455465044,
          -0.1659704235044755,
          -0.16050326803494097,
          -0.1659372671043492,
          -0.1657935368421739,
          -0.16626026985890202,
          -0.16629732730464866,
          -0.16629732730464866,
          -0.16604273436468087,
          -0.16221729159750894,
          -0.15529103480691164,
          -0.16506978944345893,
          -0.16629732730464866,
          -0.1481427217735699
         ],
         "yaxis": "y7"
        },
        {
         "marker": {
          "color": [
           0,
           1,
           2,
           3,
           4,
           5,
           6,
           7,
           8,
           9,
           10,
           11,
           12,
           13,
           14,
           15,
           16,
           17,
           18,
           19,
           20,
           21,
           22,
           23,
           24,
           25,
           26,
           27,
           28,
           29,
           30,
           31,
           32,
           33,
           34,
           35,
           36,
           37,
           38,
           39,
           40,
           41,
           42,
           43,
           44,
           45,
           46,
           47,
           48,
           49,
           50,
           51,
           52,
           53,
           54,
           55,
           56,
           57,
           58,
           59,
           60,
           61,
           62,
           63,
           64,
           65,
           66,
           67,
           68,
           69,
           70,
           71,
           72,
           73,
           74,
           75,
           76,
           77,
           78,
           79,
           80,
           81,
           82,
           83,
           84,
           85,
           86,
           87,
           88,
           89,
           90,
           91,
           92,
           93,
           94,
           95,
           96,
           97,
           98,
           99
          ],
          "colorbar": {
           "title": {
            "text": "#Trials"
           },
           "x": 1,
           "xpad": 40
          },
          "colorscale": [
           [
            0,
            "rgb(247,251,255)"
           ],
           [
            0.125,
            "rgb(222,235,247)"
           ],
           [
            0.25,
            "rgb(198,219,239)"
           ],
           [
            0.375,
            "rgb(158,202,225)"
           ],
           [
            0.5,
            "rgb(107,174,214)"
           ],
           [
            0.625,
            "rgb(66,146,198)"
           ],
           [
            0.75,
            "rgb(33,113,181)"
           ],
           [
            0.875,
            "rgb(8,81,156)"
           ],
           [
            1,
            "rgb(8,48,107)"
           ]
          ],
          "line": {
           "color": "Grey",
           "width": 0.5
          },
          "showscale": false
         },
         "mode": "markers",
         "showlegend": false,
         "type": "scatter",
         "x": [
          0.39018539363813354,
          0.14746121910274396,
          0.15162307598636987,
          0.4747429418036876,
          0.3142799410149002,
          0.05409736691606374,
          0.06318734171318523,
          0.11174786830949053,
          0.1332204159746321,
          0.06584056284667857,
          0.08960663409427705,
          0.0839758957457537,
          0.08752736958882958,
          0.23253607967791834,
          0.09659643866018873,
          0.08532326137678703,
          0.19283046752367675,
          0.07309909543960624,
          0.05000865284773635,
          0.11360171322090094,
          0.11379160155218872,
          0.08182983439095264,
          0.09304444937702573,
          0.07189727658300574,
          0.19237931048941023,
          0.10180091874727282,
          0.06093314964981903,
          0.060674377275924785,
          0.054682581245125435,
          0.06135212145889472,
          0.060866352857287837,
          0.05896652599381564,
          0.058529698735596415,
          0.07184285130692052,
          0.051433232350371255,
          0.07197562441715093,
          0.06459493182796104,
          0.40056719791927387,
          0.1368869139871127,
          0.06947381713434549,
          0.2894745986496424,
          0.059873459601034434,
          0.058006930812102946,
          0.07784991721327546,
          0.06438333802624403,
          0.07813419332932788,
          0.05372254924796036,
          0.052037633713133864,
          0.06563447479487419,
          0.06658550531678045,
          0.0556430505215693,
          0.06592590792370308,
          0.0655761838492103,
          0.0771226926907056,
          0.07777007029896993,
          0.07582630427253914,
          0.09799563391351979,
          0.10555651811524946,
          0.10164266296680456,
          0.10439464531286609,
          0.10441797979518921,
          0.12450727591328281,
          0.12429021806972826,
          0.125539470550467,
          0.12231611032130515,
          0.12707408889274724,
          0.16475237827716652,
          0.15563693331739464,
          0.16721290241957323,
          0.14135282698322701,
          0.12593945802870896,
          0.12490220773221952,
          0.12623636709773267,
          0.16719711465165135,
          0.10928576372306785,
          0.11763622052718177,
          0.1480063862407207,
          0.11631473739618979,
          0.11474699582675119,
          0.09183596327576425,
          0.11817757230029328,
          0.13477984836431373,
          0.18188578970433153,
          0.13708869209595856,
          0.13689143225033,
          0.14483973564439892,
          0.10583082077115603,
          0.2270363299073061,
          0.134043221799687,
          0.16153420608463848,
          0.17628016379069997,
          0.11801309862731553,
          0.110052237780232,
          0.09581942436436519,
          0.09817584686075014,
          0.08788415923359595,
          0.10970926927253173,
          0.09379805430561429,
          0.20777707501789172,
          0.20614300676967606
         ],
         "xaxis": "x8",
         "y": [
          -0.10112562793001874,
          -0.09964130568041424,
          -0.09875378003469146,
          -0.13865209704433568,
          -0.12460071216480907,
          -0.14397003543356823,
          -0.14902978237141423,
          -0.13767679332508814,
          -0.1441573023909029,
          -0.12180567449852484,
          -0.15287205016273966,
          -0.15013991518487912,
          -0.1507410763792572,
          -0.14631166252924066,
          -0.14733583051456428,
          -0.10754446052897164,
          -0.14396756413129652,
          -0.12128419525731951,
          -0.13836530709855904,
          -0.14954288486594752,
          -0.14407454397215314,
          -0.148543953421157,
          -0.14479714647567998,
          -0.14915652351135958,
          -0.14380279167652532,
          -0.1385646219007965,
          -0.16455607486120705,
          -0.1606226371900924,
          -0.14668711553263214,
          -0.16316681409520814,
          -0.15953979226868836,
          -0.16245150848204712,
          -0.1597428151285347,
          -0.15470736762203507,
          -0.14744926087694543,
          -0.15967314981073585,
          -0.16066637501125686,
          -0.14230693804892267,
          -0.1419597273735957,
          -0.14671500606869312,
          -0.11885343806787926,
          -0.15940085233693124,
          -0.15649013968680917,
          -0.16240428562140158,
          -0.1630740166896425,
          -0.15643955059498565,
          -0.16585369600389394,
          -0.15914533939726705,
          -0.16576779873508937,
          -0.1628447334008786,
          -0.13949694464888257,
          -0.16286406741553372,
          -0.16050867086790863,
          -0.16579289865131042,
          -0.1658432518446587,
          -0.1660908452849307,
          -0.16598368437944183,
          -0.16629732730464866,
          -0.16619684416217578,
          -0.16629732730464866,
          -0.16615188704943307,
          -0.16626013934702655,
          -0.1662642222130412,
          -0.16624437399993927,
          -0.16619217896922556,
          -0.1662326118267836,
          -0.16629732730464866,
          -0.16594703000974778,
          -0.16590359001190788,
          -0.16607688556994976,
          -0.16629732730464866,
          -0.16618458627690652,
          -0.1614474765999102,
          -0.15950139293240234,
          -0.16612054365262918,
          -0.16629732730464866,
          -0.15123805837641813,
          -0.16629732730464866,
          -0.15311441066510767,
          -0.1659923716825771,
          -0.16606196440324533,
          -0.16629732730464866,
          -0.16271134941272788,
          -0.16629732730464866,
          -0.16517507982727317,
          -0.16060928732654098,
          -0.16501994455465044,
          -0.1659704235044755,
          -0.16050326803494097,
          -0.1659372671043492,
          -0.1657935368421739,
          -0.16626026985890202,
          -0.16629732730464866,
          -0.16629732730464866,
          -0.16604273436468087,
          -0.16221729159750894,
          -0.15529103480691164,
          -0.16506978944345893,
          -0.16629732730464866,
          -0.1481427217735699
         ],
         "yaxis": "y8"
        },
        {
         "marker": {
          "color": [
           0,
           1,
           2,
           3,
           4,
           5,
           6,
           7,
           8,
           9,
           10,
           11,
           12,
           13,
           14,
           15,
           16,
           17,
           18,
           19,
           20,
           21,
           22,
           23,
           24,
           25,
           26,
           27,
           28,
           29,
           30,
           31,
           32,
           33,
           34,
           35,
           36,
           37,
           38,
           39,
           40,
           41,
           42,
           43,
           44,
           45,
           46,
           47,
           48,
           49,
           50,
           51,
           52,
           53,
           54,
           55,
           56,
           57,
           58,
           59,
           60,
           61,
           62,
           63,
           64,
           65,
           66,
           67,
           68,
           69,
           70,
           71,
           72,
           73,
           74,
           75,
           76,
           77,
           78,
           79,
           80,
           81,
           82,
           83,
           84,
           85,
           86,
           87,
           88,
           89,
           90,
           91,
           92,
           93,
           94,
           95,
           96,
           97,
           98,
           99
          ],
          "colorbar": {
           "title": {
            "text": "#Trials"
           },
           "x": 1,
           "xpad": 40
          },
          "colorscale": [
           [
            0,
            "rgb(247,251,255)"
           ],
           [
            0.125,
            "rgb(222,235,247)"
           ],
           [
            0.25,
            "rgb(198,219,239)"
           ],
           [
            0.375,
            "rgb(158,202,225)"
           ],
           [
            0.5,
            "rgb(107,174,214)"
           ],
           [
            0.625,
            "rgb(66,146,198)"
           ],
           [
            0.75,
            "rgb(33,113,181)"
           ],
           [
            0.875,
            "rgb(8,81,156)"
           ],
           [
            1,
            "rgb(8,48,107)"
           ]
          ],
          "line": {
           "color": "Grey",
           "width": 0.5
          },
          "showscale": false
         },
         "mode": "markers",
         "showlegend": false,
         "type": "scatter",
         "x": [
          0.44265872681478186,
          0.8099530722660511,
          0.4218009727200314,
          0.6431053126391902,
          0.8632333671602848,
          0.5019885946977036,
          0.7618721707580911,
          0.7903834329177053,
          0.7265008092494399,
          0.6457841528506435,
          0.5846222464217534,
          0.584280930268934,
          0.5713433901261059,
          0.5319083716984321,
          0.5714219532545707,
          0.7000743112243006,
          0.48977954648809074,
          0.5865540182852124,
          0.6793031828286308,
          0.6109381125026586,
          0.5285940776754403,
          0.5542545407424768,
          0.47500863672690574,
          0.6191856597362326,
          0.5900408105420426,
          0.659177047801011,
          0.5169862379664528,
          0.4518941260136009,
          0.46787342903568224,
          0.4065757764913654,
          0.41161204712248756,
          0.4032864949621673,
          0.44154540900382455,
          0.40180847233607864,
          0.44046430964071176,
          0.4559397574055434,
          0.5117108583248308,
          0.5158019287361381,
          0.42692246407550494,
          0.8818569579219683,
          0.4863670116767682,
          0.4026096404241553,
          0.4555510085234291,
          0.4316053938977122,
          0.4299738471907471,
          0.4289910859456305,
          0.42771039497347463,
          0.478323039565689,
          0.4013702167466795,
          0.502760467934099,
          0.8362023116688282,
          0.5011841092278002,
          0.542258909950577,
          0.4259823783923961,
          0.4243737344692933,
          0.41925495385556766,
          0.46768160389049407,
          0.4579976808080147,
          0.4732269678199619,
          0.4651507040006703,
          0.46543864770239113,
          0.4719780728508665,
          0.464715381914498,
          0.49110546768031177,
          0.48913440113342144,
          0.49160981791381836,
          0.5461206729992321,
          0.5561136200875518,
          0.5320863651359421,
          0.5004562189710249,
          0.5497014344270555,
          0.5604805931874567,
          0.6076808303536625,
          0.5262596065329904,
          0.4537045855410059,
          0.4827708529340726,
          0.7417883757537006,
          0.5474658671974428,
          0.6291944903462225,
          0.5385105505894013,
          0.5790337440238572,
          0.5167310433014395,
          0.5491380164237049,
          0.5151059276587243,
          0.5220598448029388,
          0.568345759234511,
          0.5103125451008199,
          0.4447253135086486,
          0.5965563869459322,
          0.5444437953305858,
          0.5087964324954444,
          0.4790432975724435,
          0.4802843274638411,
          0.5198036820076286,
          0.5346041390705063,
          0.5213272357549483,
          0.5629294170372012,
          0.4996767949968052,
          0.5739452047616765,
          0.5782627514948684
         ],
         "xaxis": "x9",
         "y": [
          -0.10112562793001874,
          -0.09964130568041424,
          -0.09875378003469146,
          -0.13865209704433568,
          -0.12460071216480907,
          -0.14397003543356823,
          -0.14902978237141423,
          -0.13767679332508814,
          -0.1441573023909029,
          -0.12180567449852484,
          -0.15287205016273966,
          -0.15013991518487912,
          -0.1507410763792572,
          -0.14631166252924066,
          -0.14733583051456428,
          -0.10754446052897164,
          -0.14396756413129652,
          -0.12128419525731951,
          -0.13836530709855904,
          -0.14954288486594752,
          -0.14407454397215314,
          -0.148543953421157,
          -0.14479714647567998,
          -0.14915652351135958,
          -0.14380279167652532,
          -0.1385646219007965,
          -0.16455607486120705,
          -0.1606226371900924,
          -0.14668711553263214,
          -0.16316681409520814,
          -0.15953979226868836,
          -0.16245150848204712,
          -0.1597428151285347,
          -0.15470736762203507,
          -0.14744926087694543,
          -0.15967314981073585,
          -0.16066637501125686,
          -0.14230693804892267,
          -0.1419597273735957,
          -0.14671500606869312,
          -0.11885343806787926,
          -0.15940085233693124,
          -0.15649013968680917,
          -0.16240428562140158,
          -0.1630740166896425,
          -0.15643955059498565,
          -0.16585369600389394,
          -0.15914533939726705,
          -0.16576779873508937,
          -0.1628447334008786,
          -0.13949694464888257,
          -0.16286406741553372,
          -0.16050867086790863,
          -0.16579289865131042,
          -0.1658432518446587,
          -0.1660908452849307,
          -0.16598368437944183,
          -0.16629732730464866,
          -0.16619684416217578,
          -0.16629732730464866,
          -0.16615188704943307,
          -0.16626013934702655,
          -0.1662642222130412,
          -0.16624437399993927,
          -0.16619217896922556,
          -0.1662326118267836,
          -0.16629732730464866,
          -0.16594703000974778,
          -0.16590359001190788,
          -0.16607688556994976,
          -0.16629732730464866,
          -0.16618458627690652,
          -0.1614474765999102,
          -0.15950139293240234,
          -0.16612054365262918,
          -0.16629732730464866,
          -0.15123805837641813,
          -0.16629732730464866,
          -0.15311441066510767,
          -0.1659923716825771,
          -0.16606196440324533,
          -0.16629732730464866,
          -0.16271134941272788,
          -0.16629732730464866,
          -0.16517507982727317,
          -0.16060928732654098,
          -0.16501994455465044,
          -0.1659704235044755,
          -0.16050326803494097,
          -0.1659372671043492,
          -0.1657935368421739,
          -0.16626026985890202,
          -0.16629732730464866,
          -0.16629732730464866,
          -0.16604273436468087,
          -0.16221729159750894,
          -0.15529103480691164,
          -0.16506978944345893,
          -0.16629732730464866,
          -0.1481427217735699
         ],
         "yaxis": "y9"
        }
       ],
       "layout": {
        "template": {
         "data": {
          "bar": [
           {
            "error_x": {
             "color": "#2a3f5f"
            },
            "error_y": {
             "color": "#2a3f5f"
            },
            "marker": {
             "line": {
              "color": "#E5ECF6",
              "width": 0.5
             },
             "pattern": {
              "fillmode": "overlay",
              "size": 10,
              "solidity": 0.2
             }
            },
            "type": "bar"
           }
          ],
          "barpolar": [
           {
            "marker": {
             "line": {
              "color": "#E5ECF6",
              "width": 0.5
             },
             "pattern": {
              "fillmode": "overlay",
              "size": 10,
              "solidity": 0.2
             }
            },
            "type": "barpolar"
           }
          ],
          "carpet": [
           {
            "aaxis": {
             "endlinecolor": "#2a3f5f",
             "gridcolor": "white",
             "linecolor": "white",
             "minorgridcolor": "white",
             "startlinecolor": "#2a3f5f"
            },
            "baxis": {
             "endlinecolor": "#2a3f5f",
             "gridcolor": "white",
             "linecolor": "white",
             "minorgridcolor": "white",
             "startlinecolor": "#2a3f5f"
            },
            "type": "carpet"
           }
          ],
          "choropleth": [
           {
            "colorbar": {
             "outlinewidth": 0,
             "ticks": ""
            },
            "type": "choropleth"
           }
          ],
          "contour": [
           {
            "colorbar": {
             "outlinewidth": 0,
             "ticks": ""
            },
            "colorscale": [
             [
              0,
              "#0d0887"
             ],
             [
              0.1111111111111111,
              "#46039f"
             ],
             [
              0.2222222222222222,
              "#7201a8"
             ],
             [
              0.3333333333333333,
              "#9c179e"
             ],
             [
              0.4444444444444444,
              "#bd3786"
             ],
             [
              0.5555555555555556,
              "#d8576b"
             ],
             [
              0.6666666666666666,
              "#ed7953"
             ],
             [
              0.7777777777777778,
              "#fb9f3a"
             ],
             [
              0.8888888888888888,
              "#fdca26"
             ],
             [
              1,
              "#f0f921"
             ]
            ],
            "type": "contour"
           }
          ],
          "contourcarpet": [
           {
            "colorbar": {
             "outlinewidth": 0,
             "ticks": ""
            },
            "type": "contourcarpet"
           }
          ],
          "heatmap": [
           {
            "colorbar": {
             "outlinewidth": 0,
             "ticks": ""
            },
            "colorscale": [
             [
              0,
              "#0d0887"
             ],
             [
              0.1111111111111111,
              "#46039f"
             ],
             [
              0.2222222222222222,
              "#7201a8"
             ],
             [
              0.3333333333333333,
              "#9c179e"
             ],
             [
              0.4444444444444444,
              "#bd3786"
             ],
             [
              0.5555555555555556,
              "#d8576b"
             ],
             [
              0.6666666666666666,
              "#ed7953"
             ],
             [
              0.7777777777777778,
              "#fb9f3a"
             ],
             [
              0.8888888888888888,
              "#fdca26"
             ],
             [
              1,
              "#f0f921"
             ]
            ],
            "type": "heatmap"
           }
          ],
          "heatmapgl": [
           {
            "colorbar": {
             "outlinewidth": 0,
             "ticks": ""
            },
            "colorscale": [
             [
              0,
              "#0d0887"
             ],
             [
              0.1111111111111111,
              "#46039f"
             ],
             [
              0.2222222222222222,
              "#7201a8"
             ],
             [
              0.3333333333333333,
              "#9c179e"
             ],
             [
              0.4444444444444444,
              "#bd3786"
             ],
             [
              0.5555555555555556,
              "#d8576b"
             ],
             [
              0.6666666666666666,
              "#ed7953"
             ],
             [
              0.7777777777777778,
              "#fb9f3a"
             ],
             [
              0.8888888888888888,
              "#fdca26"
             ],
             [
              1,
              "#f0f921"
             ]
            ],
            "type": "heatmapgl"
           }
          ],
          "histogram": [
           {
            "marker": {
             "pattern": {
              "fillmode": "overlay",
              "size": 10,
              "solidity": 0.2
             }
            },
            "type": "histogram"
           }
          ],
          "histogram2d": [
           {
            "colorbar": {
             "outlinewidth": 0,
             "ticks": ""
            },
            "colorscale": [
             [
              0,
              "#0d0887"
             ],
             [
              0.1111111111111111,
              "#46039f"
             ],
             [
              0.2222222222222222,
              "#7201a8"
             ],
             [
              0.3333333333333333,
              "#9c179e"
             ],
             [
              0.4444444444444444,
              "#bd3786"
             ],
             [
              0.5555555555555556,
              "#d8576b"
             ],
             [
              0.6666666666666666,
              "#ed7953"
             ],
             [
              0.7777777777777778,
              "#fb9f3a"
             ],
             [
              0.8888888888888888,
              "#fdca26"
             ],
             [
              1,
              "#f0f921"
             ]
            ],
            "type": "histogram2d"
           }
          ],
          "histogram2dcontour": [
           {
            "colorbar": {
             "outlinewidth": 0,
             "ticks": ""
            },
            "colorscale": [
             [
              0,
              "#0d0887"
             ],
             [
              0.1111111111111111,
              "#46039f"
             ],
             [
              0.2222222222222222,
              "#7201a8"
             ],
             [
              0.3333333333333333,
              "#9c179e"
             ],
             [
              0.4444444444444444,
              "#bd3786"
             ],
             [
              0.5555555555555556,
              "#d8576b"
             ],
             [
              0.6666666666666666,
              "#ed7953"
             ],
             [
              0.7777777777777778,
              "#fb9f3a"
             ],
             [
              0.8888888888888888,
              "#fdca26"
             ],
             [
              1,
              "#f0f921"
             ]
            ],
            "type": "histogram2dcontour"
           }
          ],
          "mesh3d": [
           {
            "colorbar": {
             "outlinewidth": 0,
             "ticks": ""
            },
            "type": "mesh3d"
           }
          ],
          "parcoords": [
           {
            "line": {
             "colorbar": {
              "outlinewidth": 0,
              "ticks": ""
             }
            },
            "type": "parcoords"
           }
          ],
          "pie": [
           {
            "automargin": true,
            "type": "pie"
           }
          ],
          "scatter": [
           {
            "marker": {
             "colorbar": {
              "outlinewidth": 0,
              "ticks": ""
             }
            },
            "type": "scatter"
           }
          ],
          "scatter3d": [
           {
            "line": {
             "colorbar": {
              "outlinewidth": 0,
              "ticks": ""
             }
            },
            "marker": {
             "colorbar": {
              "outlinewidth": 0,
              "ticks": ""
             }
            },
            "type": "scatter3d"
           }
          ],
          "scattercarpet": [
           {
            "marker": {
             "colorbar": {
              "outlinewidth": 0,
              "ticks": ""
             }
            },
            "type": "scattercarpet"
           }
          ],
          "scattergeo": [
           {
            "marker": {
             "colorbar": {
              "outlinewidth": 0,
              "ticks": ""
             }
            },
            "type": "scattergeo"
           }
          ],
          "scattergl": [
           {
            "marker": {
             "colorbar": {
              "outlinewidth": 0,
              "ticks": ""
             }
            },
            "type": "scattergl"
           }
          ],
          "scattermapbox": [
           {
            "marker": {
             "colorbar": {
              "outlinewidth": 0,
              "ticks": ""
             }
            },
            "type": "scattermapbox"
           }
          ],
          "scatterpolar": [
           {
            "marker": {
             "colorbar": {
              "outlinewidth": 0,
              "ticks": ""
             }
            },
            "type": "scatterpolar"
           }
          ],
          "scatterpolargl": [
           {
            "marker": {
             "colorbar": {
              "outlinewidth": 0,
              "ticks": ""
             }
            },
            "type": "scatterpolargl"
           }
          ],
          "scatterternary": [
           {
            "marker": {
             "colorbar": {
              "outlinewidth": 0,
              "ticks": ""
             }
            },
            "type": "scatterternary"
           }
          ],
          "surface": [
           {
            "colorbar": {
             "outlinewidth": 0,
             "ticks": ""
            },
            "colorscale": [
             [
              0,
              "#0d0887"
             ],
             [
              0.1111111111111111,
              "#46039f"
             ],
             [
              0.2222222222222222,
              "#7201a8"
             ],
             [
              0.3333333333333333,
              "#9c179e"
             ],
             [
              0.4444444444444444,
              "#bd3786"
             ],
             [
              0.5555555555555556,
              "#d8576b"
             ],
             [
              0.6666666666666666,
              "#ed7953"
             ],
             [
              0.7777777777777778,
              "#fb9f3a"
             ],
             [
              0.8888888888888888,
              "#fdca26"
             ],
             [
              1,
              "#f0f921"
             ]
            ],
            "type": "surface"
           }
          ],
          "table": [
           {
            "cells": {
             "fill": {
              "color": "#EBF0F8"
             },
             "line": {
              "color": "white"
             }
            },
            "header": {
             "fill": {
              "color": "#C8D4E3"
             },
             "line": {
              "color": "white"
             }
            },
            "type": "table"
           }
          ]
         },
         "layout": {
          "annotationdefaults": {
           "arrowcolor": "#2a3f5f",
           "arrowhead": 0,
           "arrowwidth": 1
          },
          "autotypenumbers": "strict",
          "coloraxis": {
           "colorbar": {
            "outlinewidth": 0,
            "ticks": ""
           }
          },
          "colorscale": {
           "diverging": [
            [
             0,
             "#8e0152"
            ],
            [
             0.1,
             "#c51b7d"
            ],
            [
             0.2,
             "#de77ae"
            ],
            [
             0.3,
             "#f1b6da"
            ],
            [
             0.4,
             "#fde0ef"
            ],
            [
             0.5,
             "#f7f7f7"
            ],
            [
             0.6,
             "#e6f5d0"
            ],
            [
             0.7,
             "#b8e186"
            ],
            [
             0.8,
             "#7fbc41"
            ],
            [
             0.9,
             "#4d9221"
            ],
            [
             1,
             "#276419"
            ]
           ],
           "sequential": [
            [
             0,
             "#0d0887"
            ],
            [
             0.1111111111111111,
             "#46039f"
            ],
            [
             0.2222222222222222,
             "#7201a8"
            ],
            [
             0.3333333333333333,
             "#9c179e"
            ],
            [
             0.4444444444444444,
             "#bd3786"
            ],
            [
             0.5555555555555556,
             "#d8576b"
            ],
            [
             0.6666666666666666,
             "#ed7953"
            ],
            [
             0.7777777777777778,
             "#fb9f3a"
            ],
            [
             0.8888888888888888,
             "#fdca26"
            ],
            [
             1,
             "#f0f921"
            ]
           ],
           "sequentialminus": [
            [
             0,
             "#0d0887"
            ],
            [
             0.1111111111111111,
             "#46039f"
            ],
            [
             0.2222222222222222,
             "#7201a8"
            ],
            [
             0.3333333333333333,
             "#9c179e"
            ],
            [
             0.4444444444444444,
             "#bd3786"
            ],
            [
             0.5555555555555556,
             "#d8576b"
            ],
            [
             0.6666666666666666,
             "#ed7953"
            ],
            [
             0.7777777777777778,
             "#fb9f3a"
            ],
            [
             0.8888888888888888,
             "#fdca26"
            ],
            [
             1,
             "#f0f921"
            ]
           ]
          },
          "colorway": [
           "#636efa",
           "#EF553B",
           "#00cc96",
           "#ab63fa",
           "#FFA15A",
           "#19d3f3",
           "#FF6692",
           "#B6E880",
           "#FF97FF",
           "#FECB52"
          ],
          "font": {
           "color": "#2a3f5f"
          },
          "geo": {
           "bgcolor": "white",
           "lakecolor": "white",
           "landcolor": "#E5ECF6",
           "showlakes": true,
           "showland": true,
           "subunitcolor": "white"
          },
          "hoverlabel": {
           "align": "left"
          },
          "hovermode": "closest",
          "mapbox": {
           "style": "light"
          },
          "paper_bgcolor": "white",
          "plot_bgcolor": "#E5ECF6",
          "polar": {
           "angularaxis": {
            "gridcolor": "white",
            "linecolor": "white",
            "ticks": ""
           },
           "bgcolor": "#E5ECF6",
           "radialaxis": {
            "gridcolor": "white",
            "linecolor": "white",
            "ticks": ""
           }
          },
          "scene": {
           "xaxis": {
            "backgroundcolor": "#E5ECF6",
            "gridcolor": "white",
            "gridwidth": 2,
            "linecolor": "white",
            "showbackground": true,
            "ticks": "",
            "zerolinecolor": "white"
           },
           "yaxis": {
            "backgroundcolor": "#E5ECF6",
            "gridcolor": "white",
            "gridwidth": 2,
            "linecolor": "white",
            "showbackground": true,
            "ticks": "",
            "zerolinecolor": "white"
           },
           "zaxis": {
            "backgroundcolor": "#E5ECF6",
            "gridcolor": "white",
            "gridwidth": 2,
            "linecolor": "white",
            "showbackground": true,
            "ticks": "",
            "zerolinecolor": "white"
           }
          },
          "shapedefaults": {
           "line": {
            "color": "#2a3f5f"
           }
          },
          "ternary": {
           "aaxis": {
            "gridcolor": "white",
            "linecolor": "white",
            "ticks": ""
           },
           "baxis": {
            "gridcolor": "white",
            "linecolor": "white",
            "ticks": ""
           },
           "bgcolor": "#E5ECF6",
           "caxis": {
            "gridcolor": "white",
            "linecolor": "white",
            "ticks": ""
           }
          },
          "title": {
           "x": 0.05
          },
          "xaxis": {
           "automargin": true,
           "gridcolor": "white",
           "linecolor": "white",
           "ticks": "",
           "title": {
            "standoff": 15
           },
           "zerolinecolor": "white",
           "zerolinewidth": 2
          },
          "yaxis": {
           "automargin": true,
           "gridcolor": "white",
           "linecolor": "white",
           "ticks": "",
           "title": {
            "standoff": 15
           },
           "zerolinecolor": "white",
           "zerolinewidth": 2
          }
         }
        },
        "title": {
         "text": "Slice Plot"
        },
        "width": 2700,
        "xaxis": {
         "anchor": "y",
         "domain": [
          0,
          0.09135802469135802
         ],
         "title": {
          "text": "alpha"
         }
        },
        "xaxis2": {
         "anchor": "y2",
         "domain": [
          0.11358024691358025,
          0.20493827160493827
         ],
         "title": {
          "text": "childweight"
         }
        },
        "xaxis3": {
         "anchor": "y3",
         "domain": [
          0.2271604938271605,
          0.31851851851851853
         ],
         "title": {
          "text": "colsample_bytree"
         }
        },
        "xaxis4": {
         "anchor": "y4",
         "domain": [
          0.34074074074074073,
          0.43209876543209874
         ],
         "title": {
          "text": "depth"
         }
        },
        "xaxis5": {
         "anchor": "y5",
         "domain": [
          0.454320987654321,
          0.5456790123456791
         ],
         "title": {
          "text": "estimators"
         }
        },
        "xaxis6": {
         "anchor": "y6",
         "domain": [
          0.5679012345679012,
          0.6592592592592592
         ],
         "title": {
          "text": "lambda"
         }
        },
        "xaxis7": {
         "anchor": "y7",
         "domain": [
          0.6814814814814815,
          0.7728395061728395
         ],
         "title": {
          "text": "ourgamma"
         }
        },
        "xaxis8": {
         "anchor": "y8",
         "domain": [
          0.7950617283950617,
          0.8864197530864197
         ],
         "title": {
          "text": "ourlearning_rate"
         },
         "type": "log"
        },
        "xaxis9": {
         "anchor": "y9",
         "domain": [
          0.908641975308642,
          1
         ],
         "title": {
          "text": "sample"
         }
        },
        "yaxis": {
         "anchor": "x",
         "domain": [
          0,
          1
         ],
         "title": {
          "text": "Objective Value"
         }
        },
        "yaxis2": {
         "anchor": "x2",
         "domain": [
          0,
          1
         ],
         "matches": "y",
         "showticklabels": false
        },
        "yaxis3": {
         "anchor": "x3",
         "domain": [
          0,
          1
         ],
         "matches": "y",
         "showticklabels": false
        },
        "yaxis4": {
         "anchor": "x4",
         "domain": [
          0,
          1
         ],
         "matches": "y",
         "showticklabels": false
        },
        "yaxis5": {
         "anchor": "x5",
         "domain": [
          0,
          1
         ],
         "matches": "y",
         "showticklabels": false
        },
        "yaxis6": {
         "anchor": "x6",
         "domain": [
          0,
          1
         ],
         "matches": "y",
         "showticklabels": false
        },
        "yaxis7": {
         "anchor": "x7",
         "domain": [
          0,
          1
         ],
         "matches": "y",
         "showticklabels": false
        },
        "yaxis8": {
         "anchor": "x8",
         "domain": [
          0,
          1
         ],
         "matches": "y",
         "showticklabels": false
        },
        "yaxis9": {
         "anchor": "x9",
         "domain": [
          0,
          1
         ],
         "matches": "y",
         "showticklabels": false
        }
       }
      }
     },
     "metadata": {},
     "output_type": "display_data"
    }
   ],
   "source": [
    "optuna.visualization.plot_slice(studyObject1)"
   ]
  },
  {
   "cell_type": "code",
   "execution_count": 21,
   "metadata": {},
   "outputs": [
    {
     "data": {
      "text/plain": [
       "{'estimators': 0,\n",
       " 'depth': 3,\n",
       " 'alpha': 4.719067643312643,\n",
       " 'lambda': 1.6150605457278278,\n",
       " 'childweight': 0,\n",
       " 'ourgamma': 2.868833959925093,\n",
       " 'ourlearning_rate': 0.10555651811524946,\n",
       " 'colsample_bytree': 0.8025608696446037,\n",
       " 'sample': 0.4579976808080147}"
      ]
     },
     "execution_count": 21,
     "metadata": {},
     "output_type": "execute_result"
    }
   ],
   "source": [
    "studyObject1.best_params"
   ]
  },
  {
   "cell_type": "code",
   "execution_count": 22,
   "metadata": {},
   "outputs": [
    {
     "name": "stdout",
     "output_type": "stream",
     "text": [
      "without optimization -0.02306360792278799\n",
      "[00:57:58] WARNING: /Users/runner/work/xgboost/xgboost/python-package/build/temp.macosx-10.9-x86_64-cpython-38/xgboost/src/learner.cc:767: \n",
      "Parameters: { \"childweight\", \"depth\", \"estimators\", \"ourgamma\", \"ourlearning_rate\", \"sample\" } are not used.\n",
      "\n",
      "[00:57:58] WARNING: /Users/runner/work/xgboost/xgboost/python-package/build/temp.macosx-10.9-x86_64-cpython-38/xgboost/src/learner.cc:767: \n",
      "Parameters: { \"childweight\", \"depth\", \"estimators\", \"ourgamma\", \"ourlearning_rate\", \"sample\" } are not used.\n",
      "\n",
      "[00:57:58] WARNING: /Users/runner/work/xgboost/xgboost/python-package/build/temp.macosx-10.9-x86_64-cpython-38/xgboost/src/learner.cc:767: \n",
      "Parameters: { \"childweight\", \"depth\", \"estimators\", \"ourgamma\", \"ourlearning_rate\", \"sample\" } are not used.\n",
      "\n",
      "[00:57:58] WARNING: /Users/runner/work/xgboost/xgboost/python-package/build/temp.macosx-10.9-x86_64-cpython-38/xgboost/src/learner.cc:767: \n",
      "Parameters: { \"childweight\", \"depth\", \"estimators\", \"ourgamma\", \"ourlearning_rate\", \"sample\" } are not used.\n",
      "\n",
      "with optimization -0.05736727344837065\n"
     ]
    }
   ],
   "source": [
    "parameter = {}\n",
    "print(f\"without optimization {return_score(parameter)}\")\n",
    "print(f\"with optimization {return_score(studyObject1.best_params)}\")"
   ]
  }
 ],
 "metadata": {
  "kernelspec": {
   "display_name": "base",
   "language": "python",
   "name": "python3"
  },
  "language_info": {
   "codemirror_mode": {
    "name": "ipython",
    "version": 3
   },
   "file_extension": ".py",
   "mimetype": "text/x-python",
   "name": "python",
   "nbconvert_exporter": "python",
   "pygments_lexer": "ipython3",
   "version": "3.9.7 (default, Sep 16 2021, 08:50:36) \n[Clang 10.0.0 ]"
  },
  "orig_nbformat": 4,
  "vscode": {
   "interpreter": {
    "hash": "40d3a090f54c6569ab1632332b64b2c03c39dcf918b08424e98f38b5ae0af88f"
   }
  }
 },
 "nbformat": 4,
 "nbformat_minor": 2
}
